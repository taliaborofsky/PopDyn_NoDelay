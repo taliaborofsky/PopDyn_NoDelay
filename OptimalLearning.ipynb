{
 "cells": [
  {
   "cell_type": "markdown",
   "id": "moving-eight",
   "metadata": {},
   "source": [
    "# Optimal Amount of Social Learning"
   ]
  },
  {
   "cell_type": "code",
   "execution_count": 1,
   "id": "chief-south",
   "metadata": {},
   "outputs": [],
   "source": [
    "import scipy as sp\n",
    "import numpy as np\n",
    "from scipy.optimize import fsolve\n",
    "import scipy.stats as scs\n",
    "import equilibriumfuns\n",
    "from equilibriumfuns import *\n",
    "import helperfuns\n",
    "from helperfuns import *\n"
   ]
  },
  {
   "cell_type": "code",
   "execution_count": null,
   "id": "rising-given",
   "metadata": {},
   "outputs": [],
   "source": []
  }
 ],
 "metadata": {
  "kernelspec": {
   "display_name": "Python 3",
   "language": "python",
   "name": "python3"
  },
  "language_info": {
   "codemirror_mode": {
    "name": "ipython",
    "version": 3
   },
   "file_extension": ".py",
   "mimetype": "text/x-python",
   "name": "python",
   "nbconvert_exporter": "python",
   "pygments_lexer": "ipython3",
   "version": "3.9.2"
  }
 },
 "nbformat": 4,
 "nbformat_minor": 5
}
