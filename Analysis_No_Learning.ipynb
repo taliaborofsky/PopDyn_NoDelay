{
 "cells": [
  {
   "cell_type": "markdown",
   "id": "musical-affair",
   "metadata": {},
   "source": [
    "# Analysis - no learning"
   ]
  },
  {
   "cell_type": "markdown",
   "id": "stock-accent",
   "metadata": {},
   "source": [
    "Question here: what is the optimal L?"
   ]
  },
  {
   "cell_type": "code",
   "execution_count": 2,
   "id": "residential-pledge",
   "metadata": {},
   "outputs": [],
   "source": [
    "from sympy import *\n",
    "from sympy.abc import delta, beta"
   ]
  },
  {
   "cell_type": "code",
   "execution_count": 3,
   "id": "handy-auction",
   "metadata": {},
   "outputs": [],
   "source": [
    "r, R, L, N = symbols('r, R, L, N')"
   ]
  },
  {
   "cell_type": "code",
   "execution_count": 6,
   "id": "searching-arnold",
   "metadata": {},
   "outputs": [],
   "source": [
    "rhat = (1/L)*(delta - R*(1-L))\n",
    "Nhat = (1-rhat)/(beta*L)"
   ]
  },
  {
   "cell_type": "code",
   "execution_count": 18,
   "id": "unlike-pursuit",
   "metadata": {},
   "outputs": [
    {
     "data": {
      "text/latex": [
       "$\\displaystyle \\frac{L R - L - 2 R + 2 \\delta}{L^{3} \\beta}$"
      ],
      "text/plain": [
       "(L*R - L - 2*R + 2*delta)/(L**3*beta)"
      ]
     },
     "execution_count": 18,
     "metadata": {},
     "output_type": "execute_result"
    }
   ],
   "source": [
    "simplify(diff(Nhat,L))"
   ]
  },
  {
   "cell_type": "code",
   "execution_count": 25,
   "id": "aware-bandwidth",
   "metadata": {},
   "outputs": [
    {
     "data": {
      "text/latex": [
       "$\\displaystyle \\frac{2 \\left(R - \\delta\\right)}{R - 1}$"
      ],
      "text/plain": [
       "2*(R - delta)/(R - 1)"
      ]
     },
     "metadata": {},
     "output_type": "display_data"
    }
   ],
   "source": [
    "Lstar = solve(diff(Nhat,L),L)[0]\n",
    "display(Lstar)"
   ]
  },
  {
   "cell_type": "code",
   "execution_count": 26,
   "id": "featured-sustainability",
   "metadata": {},
   "outputs": [],
   "source": [
    "Nhat_opt = (1 - rhat.subs([(L,Lstar)]))/(beta*Lstar)"
   ]
  },
  {
   "cell_type": "code",
   "execution_count": 29,
   "id": "compatible-finnish",
   "metadata": {},
   "outputs": [
    {
     "data": {
      "text/latex": [
       "$\\displaystyle \\frac{- R^{2} + 2 R - 1}{4 \\beta \\left(R - \\delta\\right)}$"
      ],
      "text/plain": [
       "(-R**2 + 2*R - 1)/(4*beta*(R - delta))"
      ]
     },
     "metadata": {},
     "output_type": "display_data"
    }
   ],
   "source": [
    "Nhat_opt = simplify(Nhat_opt)\n",
    "display(Nhat_opt)"
   ]
  },
  {
   "cell_type": "code",
   "execution_count": 24,
   "id": "unusual-alert",
   "metadata": {},
   "outputs": [
    {
     "data": {
      "text/plain": [
       "[2*(R - delta)/(R - 1)]"
      ]
     },
     "execution_count": 24,
     "metadata": {},
     "output_type": "execute_result"
    }
   ],
   "source": [
    "Lstar"
   ]
  },
  {
   "cell_type": "code",
   "execution_count": 37,
   "id": "rising-builder",
   "metadata": {},
   "outputs": [],
   "source": [
    "doublediffN = diff(diff(Nhat,L),L)"
   ]
  },
  {
   "cell_type": "code",
   "execution_count": 38,
   "id": "given-polymer",
   "metadata": {},
   "outputs": [
    {
     "data": {
      "text/latex": [
       "$\\displaystyle \\frac{2 \\left(R - \\delta\\right)}{R - 1}$"
      ],
      "text/plain": [
       "2*(R - delta)/(R - 1)"
      ]
     },
     "execution_count": 38,
     "metadata": {},
     "output_type": "execute_result"
    }
   ],
   "source": [
    "Lstar"
   ]
  },
  {
   "cell_type": "code",
   "execution_count": 40,
   "id": "measured-contents",
   "metadata": {},
   "outputs": [
    {
     "data": {
      "text/latex": [
       "$\\displaystyle \\frac{2 \\left(- L R + L + 3 R - 3 \\delta\\right)}{L^{4} \\beta}$"
      ],
      "text/plain": [
       "2*(-L*R + L + 3*R - 3*delta)/(L**4*beta)"
      ]
     },
     "execution_count": 40,
     "metadata": {},
     "output_type": "execute_result"
    }
   ],
   "source": [
    "simplify(doublediffN)"
   ]
  },
  {
   "cell_type": "markdown",
   "id": "alien-hometown",
   "metadata": {},
   "source": [
    "Jacobian for equilibria"
   ]
  },
  {
   "cell_type": "code",
   "execution_count": 45,
   "id": "signed-vanilla",
   "metadata": {},
   "outputs": [],
   "source": [
    "Jac = Matrix([[1+R+ (r-R)*L - delta, L*N],[-beta*L*r/(1+r), (2-beta*L*N)/(1+r)**2]])"
   ]
  },
  {
   "cell_type": "code",
   "execution_count": 60,
   "id": "proud-trailer",
   "metadata": {},
   "outputs": [
    {
     "data": {
      "text/latex": [
       "$\\displaystyle \\left[\\begin{matrix}L \\left(- R + r\\right) + R - \\delta + 1 & L N\\\\- \\frac{L \\beta r}{r + 1} & \\frac{- L N \\beta + 2}{\\left(r + 1\\right)^{2}}\\end{matrix}\\right]$"
      ],
      "text/plain": [
       "Matrix([\n",
       "[L*(-R + r) + R - delta + 1,                        L*N],\n",
       "[         -L*beta*r/(r + 1), (-L*N*beta + 2)/(r + 1)**2]])"
      ]
     },
     "execution_count": 60,
     "metadata": {},
     "output_type": "execute_result"
    }
   ],
   "source": [
    "Jac"
   ]
  },
  {
   "cell_type": "code",
   "execution_count": 59,
   "id": "equal-corner",
   "metadata": {},
   "outputs": [
    {
     "data": {
      "text/latex": [
       "$\\displaystyle \\lambda^{2} + \\frac{\\lambda \\left(L N \\beta + L R r^{2} + 2 L R r + L R - L r^{3} - 2 L r^{2} - L r - R r^{2} - 2 R r - R + \\delta r^{2} + 2 \\delta r + \\delta - r^{2} - 2 r - 3\\right)}{r^{2} + 2 r + 1} + \\frac{L^{2} N R \\beta + L^{2} N \\beta r^{2} - L N R \\beta + L N \\beta \\delta - L N \\beta - 2 L R + 2 L r + 2 R - 2 \\delta + 2}{r^{2} + 2 r + 1}$"
      ],
      "text/plain": [
       "lambda**2 + lambda*(L*N*beta + L*R*r**2 + 2*L*R*r + L*R - L*r**3 - 2*L*r**2 - L*r - R*r**2 - 2*R*r - R + delta*r**2 + 2*delta*r + delta - r**2 - 2*r - 3)/(r**2 + 2*r + 1) + (L**2*N*R*beta + L**2*N*beta*r**2 - L*N*R*beta + L*N*beta*delta - L*N*beta - 2*L*R + 2*L*r + 2*R - 2*delta + 2)/(r**2 + 2*r + 1)"
      ]
     },
     "execution_count": 59,
     "metadata": {},
     "output_type": "execute_result"
    }
   ],
   "source": [
    "charpoly = Jac.charpoly().as_expr()\n",
    "charpoly"
   ]
  },
  {
   "cell_type": "code",
   "execution_count": 61,
   "id": "entire-trial",
   "metadata": {},
   "outputs": [
    {
     "data": {
      "text/latex": [
       "$\\displaystyle \\frac{- R \\left(1 - L\\right) + \\delta}{L}$"
      ],
      "text/plain": [
       "(-R*(1 - L) + delta)/L"
      ]
     },
     "execution_count": 61,
     "metadata": {},
     "output_type": "execute_result"
    }
   ],
   "source": [
    "rhat"
   ]
  },
  {
   "cell_type": "markdown",
   "id": "outdoor-republican",
   "metadata": {},
   "source": [
    "CoexistenceEquilibrium"
   ]
  },
  {
   "cell_type": "code",
   "execution_count": 71,
   "id": "centered-helping",
   "metadata": {},
   "outputs": [
    {
     "data": {
      "text/latex": [
       "$\\displaystyle \\frac{L \\beta \\left(- L R + R - \\delta\\right)}{L R + L - R + \\delta}$"
      ],
      "text/plain": [
       "L*beta*(-L*R + R - delta)/(L*R + L - R + delta)"
      ]
     },
     "execution_count": 71,
     "metadata": {},
     "output_type": "execute_result"
    }
   ],
   "source": [
    "simplify(-L*beta*rhat/(1+rhat))"
   ]
  },
  {
   "cell_type": "code",
   "execution_count": 84,
   "id": "surprising-british",
   "metadata": {},
   "outputs": [],
   "source": [
    "Jac_co = Matrix([[1, L*N],[-L*beta*r/(1+r), 1/(1+r)]])"
   ]
  },
  {
   "cell_type": "code",
   "execution_count": 85,
   "id": "rolled-casino",
   "metadata": {},
   "outputs": [],
   "source": [
    "evals = list(Jac_co.eigenvals())\n"
   ]
  },
  {
   "cell_type": "code",
   "execution_count": 88,
   "id": "pharmaceutical-novel",
   "metadata": {},
   "outputs": [
    {
     "data": {
      "text/latex": [
       "$\\displaystyle - \\frac{\\sqrt{- r \\left(4 L^{2} N \\beta r + 4 L^{2} N \\beta - r\\right)}}{2 \\left(r + 1\\right)} + \\frac{r + 2}{2 \\left(r + 1\\right)}$"
      ],
      "text/plain": [
       "-sqrt(-r*(4*L**2*N*beta*r + 4*L**2*N*beta - r))/(2*(r + 1)) + (r + 2)/(2*(r + 1))"
      ]
     },
     "execution_count": 88,
     "metadata": {},
     "output_type": "execute_result"
    }
   ],
   "source": [
    "evals[0]"
   ]
  },
  {
   "cell_type": "code",
   "execution_count": 63,
   "id": "directed-identification",
   "metadata": {},
   "outputs": [],
   "source": [
    "expr = 1 + R-delta + L*(rhat-R)"
   ]
  },
  {
   "cell_type": "code",
   "execution_count": 65,
   "id": "flexible-sussex",
   "metadata": {},
   "outputs": [
    {
     "data": {
      "text/latex": [
       "$\\displaystyle 1$"
      ],
      "text/plain": [
       "1"
      ]
     },
     "execution_count": 65,
     "metadata": {},
     "output_type": "execute_result"
    }
   ],
   "source": [
    "simplify(expr)"
   ]
  },
  {
   "cell_type": "code",
   "execution_count": 95,
   "id": "covered-fashion",
   "metadata": {},
   "outputs": [
    {
     "data": {
      "text/latex": [
       "$\\displaystyle \\frac{- R \\left(1 - L\\right) + \\delta}{L}$"
      ],
      "text/plain": [
       "(-R*(1 - L) + delta)/L"
      ]
     },
     "execution_count": 95,
     "metadata": {},
     "output_type": "execute_result"
    }
   ],
   "source": [
    "rhat"
   ]
  },
  {
   "cell_type": "code",
   "execution_count": 96,
   "id": "central-hometown",
   "metadata": {},
   "outputs": [],
   "source": [
    "rhatstar = simplify(rhat.subs([(L,Lstar)]))"
   ]
  },
  {
   "cell_type": "code",
   "execution_count": 97,
   "id": "elementary-simpson",
   "metadata": {},
   "outputs": [
    {
     "data": {
      "text/latex": [
       "$\\displaystyle \\frac{R}{2} + \\frac{1}{2}$"
      ],
      "text/plain": [
       "R/2 + 1/2"
      ]
     },
     "execution_count": 97,
     "metadata": {},
     "output_type": "execute_result"
    }
   ],
   "source": [
    "rhatstar"
   ]
  },
  {
   "cell_type": "code",
   "execution_count": 93,
   "id": "material-organic",
   "metadata": {},
   "outputs": [
    {
     "data": {
      "text/latex": [
       "$\\displaystyle \\frac{R}{2} + \\frac{1}{2}$"
      ],
      "text/plain": [
       "R/2 + 1/2"
      ]
     },
     "execution_count": 93,
     "metadata": {},
     "output_type": "execute_result"
    }
   ],
   "source": [
    "simplify(rhatstar)"
   ]
  },
  {
   "cell_type": "code",
   "execution_count": null,
   "id": "magnetic-prime",
   "metadata": {},
   "outputs": [],
   "source": []
  }
 ],
 "metadata": {
  "kernelspec": {
   "display_name": "Python 3",
   "language": "python",
   "name": "python3"
  },
  "language_info": {
   "codemirror_mode": {
    "name": "ipython",
    "version": 3
   },
   "file_extension": ".py",
   "mimetype": "text/x-python",
   "name": "python",
   "nbconvert_exporter": "python",
   "pygments_lexer": "ipython3",
   "version": "3.9.2"
  }
 },
 "nbformat": 4,
 "nbformat_minor": 5
}
