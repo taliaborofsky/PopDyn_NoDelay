{
 "cells": [
  {
   "cell_type": "code",
   "execution_count": 1,
   "metadata": {
    "collapsed": true
   },
   "outputs": [],
   "source": [
    "import numpy as np\n",
    "import pandas as pd\n",
    "import scipy.stats as scs\n",
    "import helperfuns\n",
    "from helperfuns import *\n",
    "from numpy.lib.scimath import sqrt as csqrt\n",
    "import matplotlib as mpl\n",
    "import matplotlib.pyplot as plt\n",
    "from helperfuns import *\n",
    "from equilibriumfuns import *\n",
    "fig_directory = '/Users/taliaborofsky/Documents/\\\n",
    "PhD Research/PopDynamics_SocLearning/PopDynamics_TeX/Figures_NoDelay'\n",
    "green, yellow, purple, red, blue, orange = '#8dd3c7','#ffffb3','#bebada','#fb8072','#80b1d3','#fdb462'\n",
    "from matplotlib.collections import LineCollection\n",
    "\n",
    "from equilibria_analysis_funs import *\n",
    "import multiprocessing as mp\n",
    "from itertools import repeat"
   ]
  },
  {
   "cell_type": "code",
   "execution_count": 57,
   "metadata": {
    "collapsed": true
   },
   "outputs": [],
   "source": [
    "muvals = np.linspace(-1,1,2000)\n",
    "\n",
    "μmat, whichRδ = np.meshgrid(muvals, [0,1,2,3])\n",
    "μ, whichRδ = [np.ndarray.flatten(item) for item in [μmat, whichRδ]]\n",
    "Rvals = np.array([0.1, 0.1, 0.4, 0.2])\n",
    "δvals = np.array([0.15, 0.2, 0.5, 0.5])\n",
    "R = Rvals[whichRδ]\n",
    "δ = δvals[whichRδ]\n",
    "list_param_vecs = np.array([μ, R, δ]).T\n"
   ]
  },
  {
   "cell_type": "code",
   "execution_count": null,
   "metadata": {},
   "outputs": [
    {
     "name": "stdout",
     "output_type": "stream",
     "text": [
      "Number of processors:  24\n"
     ]
    }
   ],
   "source": [
    "\n",
    "print(\"Number of processors: \", mp.cpu_count())\n",
    "# Step 1: Init multiprocessing.Pool()\n",
    "\n",
    "\n",
    "pool = mp.Pool(mp.cpu_count())\n",
    "out = pool.map(custmax_s_2,list_param_vecs)\n",
    "\n",
    "pool.close()\n",
    "outmat = np.vstack(out)\n",
    "\n",
    "s0, s1, Nβ0, Nβ1 = outmat.T\n",
    "μ, R, δ = list_param_vecs.T\n",
    "df = pd.DataFrame({'s0':s0, 's1':s1, 'Nβ0':Nβ0, 'Nβ1':Nβ1,\n",
    "                  'mu':μ, 'R':R, 'delta':δ })\n",
    "df.to_csv('lines_sstar.csv')"
   ]
  },
  {
   "cell_type": "code",
   "execution_count": 21,
   "metadata": {},
   "outputs": [
    {
     "data": {
      "image/png": "[encoded data removed]",
      "text/plain": [
       "<Figure size 432x288 with 1 Axes>"
      ]
     },
     "metadata": {},
     "output_type": "display_data"
    }
   ],
   "source": [
    "\n",
    "\n",
    "    \n",
    "R = 0.1\n",
    "δ = 0.2\n",
    "mu = -0.6\n",
    "svec = np.linspace(0,3,1000)\n",
    "Kvec = Kfun(svec, scs.norm(mu))\n",
    "pcvec = pcfun(svec, scs.norm(mu))\n",
    "rvec = get_r_hat_vec1(Kvec, pcvec, δ, R)\n",
    "uvec = u_r_hat(rvec,R,δ)\n",
    "plt.plot(Kvec,get_Nβ_r(rvec, δ, R), color = 'k', label = 'Nβ')\n",
    "plt.plot(Kvec, rvec, color = red, label = 'r')\n",
    "plt.plot (Kvec, uvec, color = blue, label = 'u_r')\n",
    "\n",
    "plt.xlabel('K', fontsize = 20)\n",
    "plt.ylabel('Nβ or r or u_r', fontsize = 20)\n",
    "plt.legend(fontsize = 18)\n",
    "\n",
    "\n",
    "plt.show()\n",
    "\n"
   ]
  },
  {
   "cell_type": "code",
   "execution_count": null,
   "metadata": {
    "collapsed": true
   },
   "outputs": [],
   "source": []
  }
 ],
 "metadata": {
  "kernelspec": {
   "display_name": "Python 3",
   "language": "python",
   "name": "python3"
  },
  "language_info": {
   "codemirror_mode": {
    "name": "ipython",
    "version": 3
   },
   "file_extension": ".py",
   "mimetype": "text/x-python",
   "name": "python",
   "nbconvert_exporter": "python",
   "pygments_lexer": "ipython3",
   "version": "3.6.1"
  }
 },
 "nbformat": 4,
 "nbformat_minor": 2
}
