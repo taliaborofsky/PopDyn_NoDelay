{
 "cells": [
  {
   "cell_type": "markdown",
   "id": "becoming-geneva",
   "metadata": {},
   "source": [
    "# Number of Equilibria"
   ]
  },
  {
   "cell_type": "code",
   "execution_count": 2,
   "id": "naughty-manual",
   "metadata": {},
   "outputs": [],
   "source": [
    "import numpy as np\n",
    "import pandas as pd\n",
    "import scipy.stats as scs\n",
    "import helperfuns\n",
    "from helperfuns import *\n",
    "from numpy.lib.scimath import sqrt as csqrt\n",
    "import matplotlib as mpl\n",
    "import matplotlib.pyplot as plt"
   ]
  },
  {
   "cell_type": "code",
   "execution_count": 68,
   "id": "hollywood-profession",
   "metadata": {},
   "outputs": [],
   "source": [
    "# Finds the nonzero r equilibrium if it exists\n",
    "# inputs are scalar numbers (not vectors)\n",
    "def get_r_hat(K,pc,delta,R):\n",
    "    a = pc + K*(delta-R)/(1+delta)\n",
    "    b = (delta-R)*(K*(1+R)/(1+delta)-1) - R*pc\n",
    "    c = -R*(delta-R)*(1 - K/(1+delta))\n",
    "    \n",
    "    \n",
    "    discrim = b**2 - 4*a*c\n",
    "    rpos = 0\n",
    "    rneg = 0\n",
    "    if discrim >= 0:\n",
    "        rpos = (-b + np.sqrt(b**2 - 4*a*c))/(2*a) \n",
    "        rneg = (-b - np.sqrt(b**2 - 4*a*c))/(2*a)\n",
    "        if R < delta:\n",
    "            rpos_ans = rpos if rpos > 0 and rpos >= delta else np.nan\n",
    "            rneg_ans=np.nan\n",
    "        if R > delta:\n",
    "            rpos_ans = rpos if rpos > 0 and rpos <= delta else np.nan\n",
    "            rneg_ans = rneg if rneg > 0 and rneg <= delta else np.nan\n",
    "        if R== delta:\n",
    "            rpos_ans = R if R > 0 else np.nan\n",
    "            rneg_ans = np.nan\n",
    "    else:\n",
    "        rpos_ans = np.nan\n",
    "        rneg_ans = np.nan\n",
    "\n",
    "    return(np.array([rpos_ans,rneg_ans]))\n",
    "# Finds the nonzero r equilibrium if it exists\n",
    "# inputs must be arrays with the same dimensions\n",
    "def get_r_hat_v(K, pc, delta, R):\n",
    "    \n",
    "    K,pc,delta,R = [np.array(item) for item in [K,pc,delta,R]]\n",
    "    #rpos = np.zeros(K.shape)\n",
    "    #rneg = np.zeros(K.shape)\n",
    "    \n",
    "    a = pc + K*(delta-R)/(1+delta)\n",
    "    b = (delta-R)*(K*(1+R)/(1+delta)-1) - R*pc\n",
    "    c = -R*(delta-R)*(1 - K/(1+delta))\n",
    "    discrim = b**2 - 4*a*c\n",
    "    \n",
    "    rpos = np.array((-b + csqrt(b**2 - 4*a*c))/(2*a))\n",
    "    rneg = (-b - csqrt(b**2 - 4*a*c))/(2*a)\n",
    "    \n",
    "    rpos_ans = np.zeros(rpos.shape)\n",
    "    rneg_ans = np.zeros(rneg.shape)\n",
    "    \n",
    "    mask1a = ((discrim>=0) & (rpos >0))& ((rpos <=delta)& (R>delta))\n",
    "    mask1b = ((discrim>=0) & (rpos >0))& ((rpos >=delta)& (R<delta))\n",
    "    rpos_ans[mask1a] = rpos[mask1a].real # these are real numbers anyways with 0 in the imaginary part, \n",
    "    # but this gets rid of the complex casting warning\n",
    "    rpos_ans[mask1b] = rpos[mask1b].real\n",
    "    \n",
    "    mask2a = ((discrim>=0) & (rneg >0))& ((rneg <=delta)&(R>delta))\n",
    "    mask2b = ((discrim>=0) & (rneg >0))& ((rneg >=delta)&(R<delta))\n",
    "    rneg_ans[mask2a]=rneg[mask2a].real \n",
    "    rneg_ans[mask2b]=rneg[mask2b].real\n",
    "    \n",
    "    \n",
    "    return(rpos_ans, rneg_ans)\n",
    "# Finds the u_r equilibrium for the r that solves r = 1 - beta*N*L, if it exists\n",
    "# works if delta \\neq R\n",
    "def get_u_hat(r,delta,R):\n",
    "    # note need r > 0\\ \n",
    "    if r==R:\n",
    "        print('we have a problem. r = R.')\n",
    "        # either N_p = 0 or R = delta\n",
    "        if R == delta:\n",
    "            return(np.nan)\n",
    "    if R == delta:\n",
    "        print('we have a problem. R = delta.')\n",
    "    W = 1 + R + (r-R)\n",
    "    L = (delta-R)/(r-R)\n",
    "    u_r = L*(1+r)/(1+delta)\n",
    "    \n",
    "    return(u_r)\n",
    "\n",
    "def get_N_hat(r,delta,R,beta):\n",
    "    N = (1-r)*(r-R)/(beta*(delta-R))\n",
    "    return(N)\n",
    "\n",
    "# this should be 1 + delta if r > 0\n",
    "#def get_W_hat(r,delta,R)\n",
    "\n",
    "def get_Jstar_lambdas(r,u,N,K,pc,delta,R):\n",
    "    # J = ((1,a,b), (0,c,d), (e,f,g))\n",
    "    # rows and columns: dn, du, dr\n",
    "    #(1,a,b) from Eq. 37 (the equation for delta_N')\n",
    "    # (0,c,d) from Eq. 38 (the equation for delta_u_r')\n",
    "    # (e,f,g) from Eq. 39 (the equation for delta_r')\n",
    "    L = K*u + pc*r/(r+R)\n",
    "    a = N*K\n",
    "    b = N*(L + R*pc*(r-R)/((r+R)**2))\n",
    "    c = (K/(1+delta))*(1+r-u*(r-R))\n",
    "    d = (L/(1+delta))*(1-u) + (pc*R/((1+delta)*(r+R)**2))*(1+r-u*(r-R))\n",
    "    e = -r*beta*L/(1+r)\n",
    "    f = -K*N*r*beta/(1+r)\n",
    "    g = 1/(1+r) - N*r*beta*R*pc/((1+r)*(r+R)**2)\n",
    "    \n",
    "    xi1 = -c -g -1\n",
    "    xi2 = b*e - c*g - c + d*f - g\n",
    "    xi3 = -a*d*e + b*c*e - c*g + d*f\n",
    "    xi4 = np.sqrt(-4*(3*xi2 + xi1**2)**3 + (27*xi3 + 9*xi1*xi2 + 2*xi1**3)**2)\n",
    "    xi5 = np.cbrt((27/2)*xi3 + (1/2)*xi4 + (9/2)*xi1*xi2 + xi1**3)\n",
    "    lambda1 = (-1/3)*(xi1 + (3*xi2 + xi1**2)/xi5 + xi5)\n",
    "\n",
    "    vcomplex = np.vectorize(complex)\n",
    "    lambda2 = vcomplex((1/3)*(xi1 + (3*xi2+xi1**2)/(2*xi5) + xi5/2),\n",
    "                                   (np.sqrt(3)/6)*((3*xi2+xi1**2)/xi5 - xi5))\n",
    "    lambda3 = vcomplex((1/3)*(xi1 + (3*xi2+xi1**2)/(2*xi5) + xi5/2),\n",
    "                                   -(np.sqrt(3)/6)*((3*xi2+xi1**2)/xi5 - xi5))\n",
    "    \n",
    "    return([lambda1, lambda2, lambda3])\n",
    "\n",
    "# gets the internal stability given parameters and r\n",
    "def get_internal_stability(r,beta,K,pc,delta,R):\n",
    "    if r == np.nan:\n",
    "        return(np.nan)\n",
    "    N = get_N_hat(r,delta,R,beta)\n",
    "    #TO-DO: What if delta = R???\n",
    "    u = get_u_hat(r,delta,R)\n",
    "    lambdas = get_Jstar_lambdas(r,u,N,K,pc,delta,R)\n",
    "    mags = np.abs(lambdas)\n",
    "    if np.max(mags)>1:\n",
    "        return(0)\n",
    "    elif np.max(mags) < 1:\n",
    "        return(1)\n",
    "    else:\n",
    "        return(-1)\n",
    "\n"
   ]
  },
  {
   "cell_type": "code",
   "execution_count": 57,
   "id": "alpine-there",
   "metadata": {},
   "outputs": [
    {
     "data": {
      "text/plain": [
       "True"
      ]
     },
     "execution_count": 57,
     "metadata": {},
     "output_type": "execute_result"
    }
   ],
   "source": [
    "np.isnan(np.nan)"
   ]
  },
  {
   "cell_type": "code",
   "execution_count": 77,
   "id": "focal-arbor",
   "metadata": {},
   "outputs": [
    {
     "data": {
      "text/plain": [
       "array([0. , 0.2, 0.4, 0.6, 0.8])"
      ]
     },
     "execution_count": 77,
     "metadata": {},
     "output_type": "execute_result"
    }
   ],
   "source": [
    "np.arange(0,1,0.2)"
   ]
  },
  {
   "cell_type": "code",
   "execution_count": 115,
   "id": "quick-analyst",
   "metadata": {},
   "outputs": [
    {
     "data": {
      "text/plain": [
       "Text(0, 0.5, 'Num. Equilibria')"
      ]
     },
     "execution_count": 115,
     "metadata": {},
     "output_type": "execute_result"
    },
    {
     "data": {
      "image/png": "[encoded data removed]",
      "text/plain": [
       "<Figure size 432x432 with 2 Axes>"
      ]
     },
     "metadata": {
      "needs_background": "light"
     },
     "output_type": "display_data"
    }
   ],
   "source": [
    "deltavals = np.arange(0,1,0.01)\n",
    "Rvals = np.arange(0,1,0.01)\n",
    "mu = 0\n",
    "s = 1\n",
    "\n",
    "# make parameter grid of delta and R\n",
    "\n",
    "deltamesh, Rmesh = np.meshgrid(deltavals, Rvals)\n",
    "\n",
    "# for each (delta, R), find out the number of nonzero r hats. use np.isnan(). This is the contour\n",
    "\n",
    "get_r_hat_vec = np.frompyfunc(get_r_hat,4,1)\n",
    "out = get_r_hat_vec(K, pc, deltamesh, Rmesh)\n",
    "numr = lambda r: sum(~np.isnan(r))\n",
    "vnumr = np.vectorize(numr)\n",
    "numr_mat = vnumr(out)\n",
    "\n",
    "# plot as contour plot\n",
    "\n",
    "fig, ax = plt.subplots(1,1, figsize = (6,6))\n",
    "\n",
    "cp = ax.contourf(deltamesh,Rmesh, numr_mat, levels = [-0.5,0.5,1.5,2.5], colors = ['yellow','blue','red'])\n",
    "\n",
    "# make ticks nice\n",
    "\n",
    "ax.set_xticks(ticks = np.arange(0,1.2,0.2))\n",
    "ax.set_yticks(ticks = np.arange(0,1.2,0.2))\n",
    "ax.tick_params(axis='both', which='major', labelsize=18)\n",
    "\n",
    "# label axes\n",
    "ax.set_xlabel(r'Predator Death Rate, $\\delta$', fontsize=20)\n",
    "ax.set_ylabel(r'Alternate Prey Density, $R$', fontsize=20)\n",
    "\n",
    "# colorbar\n",
    "fig.subplots_adjust(right=0.8)\n",
    "cbar_ax = fig.add_axes([0.85,0.15,0.05,0.7])\n",
    "cb = fig.colorbar(cp, cax = cbar_ax)\n",
    "cb.ax.get_yaxis().set_ticks([0,1,2])\n",
    "cb.ax.set_yticklabels([0,1,2], fontsize = 20)\n",
    "cb.ax.set_ylabel(r'Num. Equilibria',rotation=-90, fontsize = 20, labelpad = 25)\n",
    "\n",
    "# fig.subplots_adjust(hspace=0.25,wspace = 0.25) # for if I have multiple plots"
   ]
  },
  {
   "cell_type": "code",
   "execution_count": 69,
   "id": "solar-trace",
   "metadata": {},
   "outputs": [],
   "source": []
  },
  {
   "cell_type": "code",
   "execution_count": 70,
   "id": "steady-devon",
   "metadata": {},
   "outputs": [
    {
     "data": {
      "text/plain": [
       "array([[array([nan, nan]), array([0.02,  nan]), array([0.04,  nan]), ...,\n",
       "        array([1.94,  nan]), array([1.96,  nan]), array([1.98,  nan])],\n",
       "       [array([nan, nan]), array([0.01,  nan]),\n",
       "        array([0.03561553,        nan]), ...,\n",
       "        array([1.93989743,        nan]), array([1.95989847,        nan]),\n",
       "        array([1.97989949,        nan])],\n",
       "       [array([nan, nan]), array([nan, nan]), array([0.02,  nan]), ...,\n",
       "        array([1.93959175,        nan]), array([1.95959588,        nan]),\n",
       "        array([1.97959992,        nan])],\n",
       "       ...,\n",
       "       [array([nan, nan]), array([nan, nan]), array([nan, nan]), ...,\n",
       "        array([0.97,  nan]), array([1.00922271,        nan]),\n",
       "        array([1.04705627,        nan])],\n",
       "       [array([nan, nan]), array([nan, nan]), array([nan, nan]), ...,\n",
       "        array([0.93912961, 0.02087039]), array([0.98,  nan]),\n",
       "        array([1.0192302,       nan])],\n",
       "       [array([nan, nan]), array([nan, nan]), array([nan, nan]), ...,\n",
       "        array([0.90630616, 0.04369384]), array([0.94913899, 0.02086101]),\n",
       "        array([0.99,  nan])]], dtype=object)"
      ]
     },
     "execution_count": 70,
     "metadata": {},
     "output_type": "execute_result"
    }
   ],
   "source": [
    "out"
   ]
  },
  {
   "cell_type": "code",
   "execution_count": 72,
   "id": "violent-banner",
   "metadata": {},
   "outputs": [
    {
     "data": {
      "text/plain": [
       "array([[0, 1, 1, ..., 1, 1, 1],\n",
       "       [0, 1, 1, ..., 1, 1, 1],\n",
       "       [0, 0, 1, ..., 1, 1, 1],\n",
       "       ...,\n",
       "       [0, 0, 0, ..., 1, 1, 1],\n",
       "       [0, 0, 0, ..., 2, 1, 1],\n",
       "       [0, 0, 0, ..., 2, 2, 1]])"
      ]
     },
     "execution_count": 72,
     "metadata": {},
     "output_type": "execute_result"
    }
   ],
   "source": []
  },
  {
   "cell_type": "code",
   "execution_count": 30,
   "id": "swiss-cooperation",
   "metadata": {},
   "outputs": [
    {
     "data": {
      "text/plain": [
       "array([0.35615528,        nan])"
      ]
     },
     "execution_count": 30,
     "metadata": {},
     "output_type": "execute_result"
    }
   ],
   "source": [
    "K = 0\n",
    "pc = 0.5\n",
    "delta = 0.2\n",
    "R = 0.1\n",
    "get_r_hat(K,pc,delta,R)"
   ]
  },
  {
   "cell_type": "code",
   "execution_count": 79,
   "id": "informed-enemy",
   "metadata": {},
   "outputs": [
    {
     "data": {
      "text/plain": [
       "[1, array(1.+2.j), 2]"
      ]
     },
     "execution_count": 79,
     "metadata": {},
     "output_type": "execute_result"
    }
   ],
   "source": [
    "f = np.vectorize(complex)\n",
    "[1,f(1,2),2]"
   ]
  },
  {
   "cell_type": "code",
   "execution_count": 6,
   "id": "architectural-liverpool",
   "metadata": {},
   "outputs": [],
   "source": [
    "delta = 0.3\n",
    "R = 0.7\n",
    "K = 0\n",
    "pc = 1\n",
    "Q_r_delta = delta*(delta-R)*((K/(1+delta))*(delta+R) + pc - (1+R)*(1-K/(1+delta)))"
   ]
  },
  {
   "cell_type": "code",
   "execution_count": 7,
   "id": "north-partition",
   "metadata": {},
   "outputs": [
    {
     "data": {
      "text/plain": [
       "[0, 0]"
      ]
     },
     "execution_count": 7,
     "metadata": {},
     "output_type": "execute_result"
    }
   ],
   "source": [
    "get_r_hat(K,pc,delta,R)"
   ]
  },
  {
   "cell_type": "code",
   "execution_count": 15,
   "id": "tough-architecture",
   "metadata": {},
   "outputs": [],
   "source": [
    "mu = np.array([-1,0,1])\n",
    "s = np.append(np.linspace(0,1,5),[2,3])\n",
    "delta = 0.2\n",
    "R = [0.21, 0.3, 0.5, 0.8]\n",
    "\n",
    "mu_mat, s_mat, delta_mat, R_mat = np.meshgrid(mu, s, delta, R)\n",
    "mu_vec, s_vec, delta_vec, R_vec = [np.ndarray.flatten(vec) for vec in [mu_mat, s_mat, delta_mat, R_mat]]\n",
    "norms = scs.norm(mu_vec)\n",
    "K = Kfun(s_vec,norms)\n",
    "pc = pcfun(s_vec,norms)"
   ]
  },
  {
   "cell_type": "code",
   "execution_count": 136,
   "id": "surprised-submission",
   "metadata": {},
   "outputs": [
    {
     "ename": "TypeError",
     "evalue": "oct() takes exactly one argument (2 given)",
     "output_type": "error",
     "traceback": [
      "\u001b[0;31m---------------------------------------------------------------------------\u001b[0m",
      "\u001b[0;31mTypeError\u001b[0m                                 Traceback (most recent call last)",
      "\u001b[0;32m<ipython-input-136-6dbdf0b9abea>\u001b[0m in \u001b[0;36m<module>\u001b[0;34m\u001b[0m\n\u001b[0;32m----> 1\u001b[0;31m \u001b[0moct\u001b[0m\u001b[0;34m(\u001b[0m\u001b[0;36m1\u001b[0m\u001b[0;34m,\u001b[0m\u001b[0;36m2\u001b[0m\u001b[0;34m)\u001b[0m\u001b[0;34m\u001b[0m\u001b[0;34m\u001b[0m\u001b[0m\n\u001b[0m",
      "\u001b[0;31mTypeError\u001b[0m: oct() takes exactly one argument (2 given)"
     ]
    }
   ],
   "source": []
  },
  {
   "cell_type": "code",
   "execution_count": 134,
   "id": "included-sitting",
   "metadata": {},
   "outputs": [],
   "source": [
    "rhat1, rhat2 = get_r_hat_v(K, pc, delta_vec, R_vec)"
   ]
  },
  {
   "cell_type": "code",
   "execution_count": 39,
   "id": "subjective-writing",
   "metadata": {},
   "outputs": [],
   "source": [
    "get_r_hat_vec = np.frompyfunc(get_r_hat,4,1)"
   ]
  },
  {
   "cell_type": "code",
   "execution_count": 40,
   "id": "round-option",
   "metadata": {},
   "outputs": [
    {
     "data": {
      "text/plain": [
       "<ufunc 'get_r_hat (vectorized)'>"
      ]
     },
     "execution_count": 40,
     "metadata": {},
     "output_type": "execute_result"
    }
   ],
   "source": [
    "get_r_hat_vec"
   ]
  },
  {
   "cell_type": "code",
   "execution_count": 41,
   "id": "directed-absorption",
   "metadata": {},
   "outputs": [],
   "source": [
    "out = get_r_hat_vec(K, pc, delta_vec, R_vec)"
   ]
  },
  {
   "cell_type": "code",
   "execution_count": 168,
   "id": "honey-passage",
   "metadata": {},
   "outputs": [],
   "source": [
    "df = pd.DataFrame(data={'K':K, 'pc':pc, 'mu': mu_vec, 's': s_vec, 'delta':delta_vec, \n",
    "                        'R': R_vec, 'rhat_1':rhat1, 'rhat_2':rhat2})"
   ]
  },
  {
   "cell_type": "code",
   "execution_count": null,
   "id": "eleven-westminster",
   "metadata": {},
   "outputs": [],
   "source": []
  },
  {
   "cell_type": "code",
   "execution_count": 147,
   "id": "following-priest",
   "metadata": {},
   "outputs": [],
   "source": [
    "mu = 0; s = 0.5; delta = 0.2\n",
    "\n",
    "\n"
   ]
  },
  {
   "cell_type": "code",
   "execution_count": 181,
   "id": "prime-belgium",
   "metadata": {},
   "outputs": [
    {
     "ename": "ZeroDivisionError",
     "evalue": "float division by zero",
     "output_type": "error",
     "traceback": [
      "\u001b[0;31m---------------------------------------------------------------------------\u001b[0m",
      "\u001b[0;31mZeroDivisionError\u001b[0m                         Traceback (most recent call last)",
      "\u001b[0;32m<ipython-input-181-56a4f4d3ad6c>\u001b[0m in \u001b[0;36m<module>\u001b[0;34m\u001b[0m\n\u001b[0;32m----> 1\u001b[0;31m \u001b[0mnp\u001b[0m\u001b[0;34m.\u001b[0m\u001b[0mvectorize\u001b[0m\u001b[0;34m(\u001b[0m\u001b[0mget_internal_stability\u001b[0m\u001b[0;34m)\u001b[0m\u001b[0;34m(\u001b[0m\u001b[0mrhat1\u001b[0m\u001b[0;34m,\u001b[0m\u001b[0mbeta\u001b[0m\u001b[0;34m,\u001b[0m\u001b[0mK\u001b[0m\u001b[0;34m,\u001b[0m\u001b[0mpc\u001b[0m\u001b[0;34m,\u001b[0m\u001b[0mdelta\u001b[0m\u001b[0;34m,\u001b[0m\u001b[0mR\u001b[0m\u001b[0;34m)\u001b[0m\u001b[0;34m\u001b[0m\u001b[0;34m\u001b[0m\u001b[0m\n\u001b[0m",
      "\u001b[0;32m/usr/local/lib/python3.9/site-packages/numpy/lib/function_base.py\u001b[0m in \u001b[0;36m__call__\u001b[0;34m(self, *args, **kwargs)\u001b[0m\n\u001b[1;32m   2111\u001b[0m             \u001b[0mvargs\u001b[0m\u001b[0;34m.\u001b[0m\u001b[0mextend\u001b[0m\u001b[0;34m(\u001b[0m\u001b[0;34m[\u001b[0m\u001b[0mkwargs\u001b[0m\u001b[0;34m[\u001b[0m\u001b[0m_n\u001b[0m\u001b[0;34m]\u001b[0m \u001b[0;32mfor\u001b[0m \u001b[0m_n\u001b[0m \u001b[0;32min\u001b[0m \u001b[0mnames\u001b[0m\u001b[0;34m]\u001b[0m\u001b[0;34m)\u001b[0m\u001b[0;34m\u001b[0m\u001b[0;34m\u001b[0m\u001b[0m\n\u001b[1;32m   2112\u001b[0m \u001b[0;34m\u001b[0m\u001b[0m\n\u001b[0;32m-> 2113\u001b[0;31m         \u001b[0;32mreturn\u001b[0m \u001b[0mself\u001b[0m\u001b[0;34m.\u001b[0m\u001b[0m_vectorize_call\u001b[0m\u001b[0;34m(\u001b[0m\u001b[0mfunc\u001b[0m\u001b[0;34m=\u001b[0m\u001b[0mfunc\u001b[0m\u001b[0;34m,\u001b[0m \u001b[0margs\u001b[0m\u001b[0;34m=\u001b[0m\u001b[0mvargs\u001b[0m\u001b[0;34m)\u001b[0m\u001b[0;34m\u001b[0m\u001b[0;34m\u001b[0m\u001b[0m\n\u001b[0m\u001b[1;32m   2114\u001b[0m \u001b[0;34m\u001b[0m\u001b[0m\n\u001b[1;32m   2115\u001b[0m     \u001b[0;32mdef\u001b[0m \u001b[0m_get_ufunc_and_otypes\u001b[0m\u001b[0;34m(\u001b[0m\u001b[0mself\u001b[0m\u001b[0;34m,\u001b[0m \u001b[0mfunc\u001b[0m\u001b[0;34m,\u001b[0m \u001b[0margs\u001b[0m\u001b[0;34m)\u001b[0m\u001b[0;34m:\u001b[0m\u001b[0;34m\u001b[0m\u001b[0;34m\u001b[0m\u001b[0m\n",
      "\u001b[0;32m/usr/local/lib/python3.9/site-packages/numpy/lib/function_base.py\u001b[0m in \u001b[0;36m_vectorize_call\u001b[0;34m(self, func, args)\u001b[0m\n\u001b[1;32m   2195\u001b[0m                       for a in args]\n\u001b[1;32m   2196\u001b[0m \u001b[0;34m\u001b[0m\u001b[0m\n\u001b[0;32m-> 2197\u001b[0;31m             \u001b[0moutputs\u001b[0m \u001b[0;34m=\u001b[0m \u001b[0mufunc\u001b[0m\u001b[0;34m(\u001b[0m\u001b[0;34m*\u001b[0m\u001b[0minputs\u001b[0m\u001b[0;34m)\u001b[0m\u001b[0;34m\u001b[0m\u001b[0;34m\u001b[0m\u001b[0m\n\u001b[0m\u001b[1;32m   2198\u001b[0m \u001b[0;34m\u001b[0m\u001b[0m\n\u001b[1;32m   2199\u001b[0m             \u001b[0;32mif\u001b[0m \u001b[0mufunc\u001b[0m\u001b[0;34m.\u001b[0m\u001b[0mnout\u001b[0m \u001b[0;34m==\u001b[0m \u001b[0;36m1\u001b[0m\u001b[0;34m:\u001b[0m\u001b[0;34m\u001b[0m\u001b[0;34m\u001b[0m\u001b[0m\n",
      "\u001b[0;32m<ipython-input-180-a65a61db3747>\u001b[0m in \u001b[0;36mget_internal_stability\u001b[0;34m(r, beta, K, pc, delta, R)\u001b[0m\n\u001b[1;32m    105\u001b[0m     \u001b[0;32mif\u001b[0m \u001b[0mr\u001b[0m \u001b[0;34m==\u001b[0m \u001b[0mnp\u001b[0m\u001b[0;34m.\u001b[0m\u001b[0mnan\u001b[0m\u001b[0;34m:\u001b[0m\u001b[0;34m\u001b[0m\u001b[0;34m\u001b[0m\u001b[0m\n\u001b[1;32m    106\u001b[0m         \u001b[0;32mreturn\u001b[0m\u001b[0;34m(\u001b[0m\u001b[0mnp\u001b[0m\u001b[0;34m.\u001b[0m\u001b[0mnan\u001b[0m\u001b[0;34m)\u001b[0m\u001b[0;34m\u001b[0m\u001b[0;34m\u001b[0m\u001b[0m\n\u001b[0;32m--> 107\u001b[0;31m     \u001b[0mN\u001b[0m \u001b[0;34m=\u001b[0m \u001b[0mget_N_hat\u001b[0m\u001b[0;34m(\u001b[0m\u001b[0mr\u001b[0m\u001b[0;34m,\u001b[0m\u001b[0mdelta\u001b[0m\u001b[0;34m,\u001b[0m\u001b[0mR\u001b[0m\u001b[0;34m,\u001b[0m\u001b[0mbeta\u001b[0m\u001b[0;34m)\u001b[0m\u001b[0;34m\u001b[0m\u001b[0;34m\u001b[0m\u001b[0m\n\u001b[0m\u001b[1;32m    108\u001b[0m     \u001b[0mu\u001b[0m \u001b[0;34m=\u001b[0m \u001b[0mget_u_hat\u001b[0m\u001b[0;34m(\u001b[0m\u001b[0mr\u001b[0m\u001b[0;34m,\u001b[0m\u001b[0mdelta\u001b[0m\u001b[0;34m,\u001b[0m\u001b[0mR\u001b[0m\u001b[0;34m)\u001b[0m\u001b[0;34m\u001b[0m\u001b[0;34m\u001b[0m\u001b[0m\n\u001b[1;32m    109\u001b[0m     \u001b[0mlambdas\u001b[0m \u001b[0;34m=\u001b[0m \u001b[0mget_Jstar_lambdas\u001b[0m\u001b[0;34m(\u001b[0m\u001b[0mr\u001b[0m\u001b[0;34m,\u001b[0m\u001b[0mu\u001b[0m\u001b[0;34m,\u001b[0m\u001b[0mN\u001b[0m\u001b[0;34m,\u001b[0m\u001b[0mK\u001b[0m\u001b[0;34m,\u001b[0m\u001b[0mpc\u001b[0m\u001b[0;34m,\u001b[0m\u001b[0mdelta\u001b[0m\u001b[0;34m,\u001b[0m\u001b[0mR\u001b[0m\u001b[0;34m)\u001b[0m\u001b[0;34m\u001b[0m\u001b[0;34m\u001b[0m\u001b[0m\n",
      "\u001b[0;32m<ipython-input-180-a65a61db3747>\u001b[0m in \u001b[0;36mget_N_hat\u001b[0;34m(r, delta, R, beta)\u001b[0m\n\u001b[1;32m     65\u001b[0m \u001b[0;34m\u001b[0m\u001b[0m\n\u001b[1;32m     66\u001b[0m \u001b[0;32mdef\u001b[0m \u001b[0mget_N_hat\u001b[0m\u001b[0;34m(\u001b[0m\u001b[0mr\u001b[0m\u001b[0;34m,\u001b[0m\u001b[0mdelta\u001b[0m\u001b[0;34m,\u001b[0m\u001b[0mR\u001b[0m\u001b[0;34m,\u001b[0m\u001b[0mbeta\u001b[0m\u001b[0;34m)\u001b[0m\u001b[0;34m:\u001b[0m\u001b[0;34m\u001b[0m\u001b[0;34m\u001b[0m\u001b[0m\n\u001b[0;32m---> 67\u001b[0;31m     \u001b[0mN\u001b[0m \u001b[0;34m=\u001b[0m \u001b[0;34m(\u001b[0m\u001b[0;36m1\u001b[0m\u001b[0;34m-\u001b[0m\u001b[0mr\u001b[0m\u001b[0;34m)\u001b[0m\u001b[0;34m*\u001b[0m\u001b[0;34m(\u001b[0m\u001b[0mr\u001b[0m\u001b[0;34m-\u001b[0m\u001b[0mR\u001b[0m\u001b[0;34m)\u001b[0m\u001b[0;34m/\u001b[0m\u001b[0;34m(\u001b[0m\u001b[0mbeta\u001b[0m\u001b[0;34m*\u001b[0m\u001b[0;34m(\u001b[0m\u001b[0mdelta\u001b[0m\u001b[0;34m-\u001b[0m\u001b[0mR\u001b[0m\u001b[0;34m)\u001b[0m\u001b[0;34m)\u001b[0m\u001b[0;34m\u001b[0m\u001b[0;34m\u001b[0m\u001b[0m\n\u001b[0m\u001b[1;32m     68\u001b[0m     \u001b[0;32mreturn\u001b[0m\u001b[0;34m(\u001b[0m\u001b[0mN\u001b[0m\u001b[0;34m)\u001b[0m\u001b[0;34m\u001b[0m\u001b[0;34m\u001b[0m\u001b[0m\n\u001b[1;32m     69\u001b[0m \u001b[0;34m\u001b[0m\u001b[0m\n",
      "\u001b[0;31mZeroDivisionError\u001b[0m: float division by zero"
     ]
    }
   ],
   "source": [
    "np.vectorize(get_internal_stability)(rhat1,beta,K,pc,delta,R) "
   ]
  },
  {
   "cell_type": "code",
   "execution_count": 22,
   "id": "convinced-citizenship",
   "metadata": {},
   "outputs": [
    {
     "data": {
      "image/png": "[encoded data removed]",
      "text/plain": [
       "<Figure size 1080x360 with 3 Axes>"
      ]
     },
     "metadata": {
      "needs_background": "light"
     },
     "output_type": "display_data"
    }
   ],
   "source": [
    "fig,axs= plt.subplots(1,3, figsize=(15,5) )\n",
    "mu = -1\n",
    "s = 0.5\n",
    "delta = 0.2\n",
    "R = np.arange(0,1,0.005)\n",
    "for i, ax in enumerate(axs):\n",
    "    K = Kfun(s,scs.norm(mu))\n",
    "    pc = pcfun(s,scs.norm(mu))\n",
    "    rhat1, rhat2 = get_r_hat_v(K,pc,delta,R)\n",
    "    rhat1[rhat1==0]=np.nan\n",
    "    rhat2[rhat2==0]=np.nan\n",
    "    rhat3 = np.zeros(rhat1.shape)\n",
    "    #stability1 = np.vectorize(get_internal_stability)(rhat1,beta,K,pc,delta,R)\n",
    "    #stability2 = get_internal_stability(rhat2,beta,K,pc,delta,R)\n",
    "    #stability3 = get_internal_stability(rhat2,beta,K,pc,delta,R)\n",
    "    ax.scatter(R,rhat1)\n",
    "    ax.scatter(R,rhat2)\n",
    "    ax.scatter(R,rhat3)\n",
    "    mu = mu + 1"
   ]
  },
  {
   "cell_type": "code",
   "execution_count": 171,
   "id": "liquid-procurement",
   "metadata": {},
   "outputs": [
    {
     "data": {
      "image/png": "[encoded data removed]",
      "text/plain": [
       "<Figure size 1080x360 with 3 Axes>"
      ]
     },
     "metadata": {
      "needs_background": "light"
     },
     "output_type": "display_data"
    }
   ],
   "source": [
    "fig,axs= plt.subplots(1,3, figsize=(15,5) )\n",
    "mu = -1\n",
    "s = 0.5\n",
    "delta = 0.2\n",
    "R = np.arange(0.001,1,0.005)\n",
    "for i, ax in enumerate(axs):\n",
    "    K = Kfun(s,scs.norm(mu))\n",
    "    pc = pcfun(s,scs.norm(mu))\n",
    "    rhat1, rhat2 = get_r_hat_v(K,pc,delta,R)\n",
    "    rhat1[rhat1==0]=np.nan\n",
    "    rhat2[rhat2==0]=np.nan\n",
    "    uhat1 = np.vectorize(get_u_hat)(rhat1,delta,R)\n",
    "    uhat2 = np.vectorize(get_u_hat)(rhat2,delta,R)\n",
    "    #uhat3 = np.vectorize(get_u_hat)(0,delta,R)\n",
    "    \n",
    "    #stability1 = get_internal_stability(rhat1,beta,K,pc,delta,R)\n",
    "    #stability2 = get_internal_stability(rhat2,beta,K,pc,delta,R)\n",
    "    #stability3 = get_internal_stability(rhat2,beta,K,pc,delta,R)\n",
    "    ax.scatter(R,uhat1)\n",
    "    ax.scatter(R,uhat2)\n",
    "    mu = mu + 1"
   ]
  },
  {
   "cell_type": "code",
   "execution_count": 54,
   "id": "ordinary-python",
   "metadata": {},
   "outputs": [
    {
     "data": {
      "text/plain": [
       "array([1.70622318, 1.76022615, 1.81226262, 1.86355491, 1.91500991,\n",
       "       1.9673631 , 2.02126036, 2.07731037, 2.13612319, 2.19834318,\n",
       "       2.26468165, 2.33595383, 2.4131251 , 2.49737333, 2.5901778 ,\n",
       "       2.69345277, 2.80975777, 2.94264767, 3.09729383, 3.28168044,\n",
       "              nan, 3.80499687, 4.22719844, 4.98229119,        nan,\n",
       "              nan,        nan,        nan,        nan,        nan,\n",
       "              nan,        nan,        nan,        nan,        nan,\n",
       "              nan,        nan,        nan,        nan,        nan,\n",
       "              nan,        nan,        nan,        nan,        nan,\n",
       "              nan,        nan,        nan,        nan,        nan,\n",
       "              nan,        nan,        nan,        nan,        nan,\n",
       "              nan,        nan,        nan,        nan,        nan,\n",
       "              nan,        nan,        nan,        nan,        nan,\n",
       "              nan,        nan,        nan,        nan,        nan,\n",
       "              nan,        nan,        nan,        nan,        nan,\n",
       "              nan,        nan,        nan,        nan,        nan,\n",
       "              nan,        nan,        nan,        nan,        nan,\n",
       "              nan,        nan,        nan,        nan,        nan,\n",
       "              nan,        nan,        nan,        nan,        nan,\n",
       "              nan,        nan,        nan,        nan,        nan])"
      ]
     },
     "execution_count": 54,
     "metadata": {},
     "output_type": "execute_result"
    }
   ],
   "source": []
  },
  {
   "cell_type": "code",
   "execution_count": 102,
   "id": "amazing-argument",
   "metadata": {},
   "outputs": [
    {
     "data": {
      "text/plain": [
       "array([0.20412447, 0.2068487 , 0.20988996, 0.2131478 , 0.21656763,\n",
       "       0.22012049, 0.22379333, 0.22758413, 0.23149962, 0.23555445,\n",
       "       0.23977155, 0.24418345, 0.24883478, 0.25378656, 0.25912303,\n",
       "       0.26496312, 0.27148012, 0.27893792, 0.2877627 , 0.2987019 ,\n",
       "              nan, 0.33495015, 0.37714202, 0.82142361,        nan,\n",
       "              nan,        nan,        nan,        nan,        nan,\n",
       "              nan,        nan,        nan,        nan,        nan,\n",
       "              nan,        nan,        nan,        nan,        nan,\n",
       "              nan,        nan,        nan,        nan,        nan,\n",
       "              nan,        nan,        nan,        nan,        nan,\n",
       "              nan,        nan,        nan,        nan,        nan,\n",
       "              nan,        nan,        nan,        nan,        nan,\n",
       "              nan,        nan,        nan,        nan,        nan,\n",
       "              nan,        nan,        nan,        nan,        nan,\n",
       "              nan,        nan,        nan,        nan,        nan,\n",
       "              nan,        nan,        nan,        nan,        nan,\n",
       "              nan,        nan,        nan,        nan,        nan,\n",
       "              nan,        nan,        nan,        nan,        nan,\n",
       "              nan,        nan,        nan,        nan,        nan,\n",
       "              nan,        nan,        nan,        nan,        nan])"
      ]
     },
     "execution_count": 102,
     "metadata": {},
     "output_type": "execute_result"
    }
   ],
   "source": [
    "u = np.array(uhat1)\n",
    "r=np.array(rhat1)\n",
    "N= np.array(Nhat1)\n",
    "#f = np.vectorize(get_internal_stability)\n",
    "np.vectorize(get_Jstar_lambdas)(r,u,N,K,pc,delta,R)"
   ]
  },
  {
   "cell_type": "code",
   "execution_count": 97,
   "id": "downtown-approach",
   "metadata": {},
   "outputs": [
    {
     "data": {
      "text/plain": [
       "[(0.20412447014742946+0j),\n",
       " (-0.4396206171793241-0.3500715739763635j),\n",
       " (-0.4396206171793241+0.3500715739763635j)]"
      ]
     },
     "execution_count": 97,
     "metadata": {},
     "output_type": "execute_result"
    }
   ],
   "source": [
    "get_Jstar_lambdas(r[0],u[0],N[0],K,pc,delta,R[0])"
   ]
  },
  {
   "cell_type": "code",
   "execution_count": null,
   "id": "dense-advocate",
   "metadata": {},
   "outputs": [],
   "source": []
  }
 ],
 "metadata": {
  "kernelspec": {
   "display_name": "Python 3",
   "language": "python",
   "name": "python3"
  },
  "language_info": {
   "codemirror_mode": {
    "name": "ipython",
    "version": 3
   },
   "file_extension": ".py",
   "mimetype": "text/x-python",
   "name": "python",
   "nbconvert_exporter": "python",
   "pygments_lexer": "ipython3",
   "version": "3.9.2"
  }
 },
 "nbformat": 4,
 "nbformat_minor": 5
}
