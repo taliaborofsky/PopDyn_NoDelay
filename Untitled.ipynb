{
 "cells": [
  {
   "cell_type": "code",
   "execution_count": 1,
   "id": "handled-waters",
   "metadata": {},
   "outputs": [],
   "source": [
    "from sympy import *\n",
    "import numpy as np"
   ]
  },
  {
   "cell_type": "code",
   "execution_count": 4,
   "id": "chemical-ethics",
   "metadata": {},
   "outputs": [],
   "source": [
    "from sympy.abc import beta, xi"
   ]
  },
  {
   "cell_type": "code",
   "execution_count": 285,
   "id": "downtown-millennium",
   "metadata": {},
   "outputs": [],
   "source": [
    "K, pc, p_r,u_r, F,r, delta, R  = symbols('K, \\pi_C, p_r, u_r, F, r, delta, R')"
   ]
  },
  {
   "cell_type": "code",
   "execution_count": 13,
   "id": "selected-oliver",
   "metadata": {},
   "outputs": [],
   "source": [
    "a = pc + xi*(delta-R)\n",
    "b = (delta-R)*(xi*(1+R) -1) - R*pc\n",
    "c = -R*(delta-R)*(1-xi)\n",
    "\n",
    "Q = a*r**2 + b*r + c*r"
   ]
  },
  {
   "cell_type": "code",
   "execution_count": 86,
   "id": "painted-intermediate",
   "metadata": {},
   "outputs": [],
   "source": [
    "Q_delta = expand(Q).subs([(r,delta)]).collect(delta)\n",
    "Q_1 = Q.subs([(r,1)])"
   ]
  },
  {
   "cell_type": "code",
   "execution_count": 30,
   "id": "tough-barbados",
   "metadata": {},
   "outputs": [
    {
     "data": {
      "text/latex": [
       "$\\displaystyle \\delta^{3} \\xi + \\delta^{2} \\left(R \\xi - R + \\pi_{C} + \\xi - 1\\right) + \\delta \\left(- 2 R^{2} \\xi + R^{2} - R \\pi_{C} - R \\xi + R\\right)$"
      ],
      "text/plain": [
       "delta**3*xi + delta**2*(R*xi - R + \\pi_C + xi - 1) + delta*(-2*R**2*xi + R**2 - R*\\pi_C - R*xi + R)"
      ]
     },
     "execution_count": 30,
     "metadata": {},
     "output_type": "execute_result"
    }
   ],
   "source": [
    "Q_delta"
   ]
  },
  {
   "cell_type": "code",
   "execution_count": 72,
   "id": "broad-bookmark",
   "metadata": {},
   "outputs": [],
   "source": [
    "to_check_delta = delta*(delta-R)*(xi*(R+delta) + pc + (xi-1)*(1+R))"
   ]
  },
  {
   "cell_type": "code",
   "execution_count": 74,
   "id": "involved-penny",
   "metadata": {},
   "outputs": [
    {
     "data": {
      "text/latex": [
       "$\\displaystyle 0$"
      ],
      "text/plain": [
       "0"
      ]
     },
     "execution_count": 74,
     "metadata": {},
     "output_type": "execute_result"
    }
   ],
   "source": [
    "expand(to_check_delta).collect(delta) - Q_delta"
   ]
  },
  {
   "cell_type": "code",
   "execution_count": 82,
   "id": "selective-bacteria",
   "metadata": {},
   "outputs": [],
   "source": [
    "to_check_1 = pc*(1-R) + (delta-R)*(1+R)*xi + (delta-R)*(1+R)*(xi-1)"
   ]
  },
  {
   "cell_type": "code",
   "execution_count": 90,
   "id": "occupational-delay",
   "metadata": {},
   "outputs": [
    {
     "data": {
      "text/latex": [
       "$\\displaystyle 0$"
      ],
      "text/plain": [
       "0"
      ]
     },
     "execution_count": 90,
     "metadata": {},
     "output_type": "execute_result"
    }
   ],
   "source": [
    "expand(Q_1).collect(delta) - expand(to_check_1).collect(delta)"
   ]
  },
  {
   "cell_type": "code",
   "execution_count": 96,
   "id": "operating-andorra",
   "metadata": {},
   "outputs": [],
   "source": [
    "to_simplify = (delta-R)*(xi*(delta+R) + pc)  - pc*(1-R) - (delta-R)*(1+R)*xi  "
   ]
  },
  {
   "cell_type": "code",
   "execution_count": 98,
   "id": "experimental-publication",
   "metadata": {},
   "outputs": [
    {
     "data": {
      "text/latex": [
       "$\\displaystyle - \\left(\\delta - 1\\right) \\left(R \\xi - \\pi_{C} - \\delta \\xi\\right)$"
      ],
      "text/plain": [
       "-(delta - 1)*(R*xi - \\pi_C - delta*xi)"
      ]
     },
     "execution_count": 98,
     "metadata": {},
     "output_type": "execute_result"
    }
   ],
   "source": [
    "factor(to_simplify)"
   ]
  },
  {
   "cell_type": "code",
   "execution_count": 95,
   "id": "several-optimum",
   "metadata": {},
   "outputs": [
    {
     "data": {
      "text/latex": [
       "$\\displaystyle 0$"
      ],
      "text/plain": [
       "0"
      ]
     },
     "execution_count": 95,
     "metadata": {},
     "output_type": "execute_result"
    }
   ],
   "source": [
    "expand(to_check_all).collect(delta) - Q_delta"
   ]
  },
  {
   "cell_type": "code",
   "execution_count": 99,
   "id": "dense-albuquerque",
   "metadata": {},
   "outputs": [],
   "source": [
    "rhs = (1-delta)*(xi*(delta-R) + pc)"
   ]
  },
  {
   "cell_type": "code",
   "execution_count": 102,
   "id": "better-characterization",
   "metadata": {},
   "outputs": [
    {
     "data": {
      "text/latex": [
       "$\\displaystyle - \\left(R - \\delta\\right) \\left(2 R \\xi - R + \\pi_{C} + \\delta \\xi + \\xi - 1\\right)$"
      ],
      "text/plain": [
       "-(R - delta)*(2*R*xi - R + \\pi_C + delta*xi + xi - 1)"
      ]
     },
     "execution_count": 102,
     "metadata": {},
     "output_type": "execute_result"
    }
   ],
   "source": [
    "factor(expand(Q_1 - rhs))"
   ]
  },
  {
   "cell_type": "code",
   "execution_count": 104,
   "id": "electoral-bernard",
   "metadata": {},
   "outputs": [
    {
     "data": {
      "text/latex": [
       "$\\displaystyle - \\delta \\left(R - \\delta\\right) \\left(2 R \\xi - R + \\pi_{C} + \\delta \\xi + \\xi - 1\\right)$"
      ],
      "text/plain": [
       "-delta*(R - delta)*(2*R*xi - R + \\pi_C + delta*xi + xi - 1)"
      ]
     },
     "execution_count": 104,
     "metadata": {},
     "output_type": "execute_result"
    }
   ],
   "source": [
    "factor(Q_delta)"
   ]
  },
  {
   "cell_type": "markdown",
   "id": "integral-findings",
   "metadata": {},
   "source": [
    "# Local stability"
   ]
  },
  {
   "cell_type": "code",
   "execution_count": 286,
   "id": "valid-diagnosis",
   "metadata": {},
   "outputs": [],
   "source": [
    "du, dr, dN, L,N, W, u = symbols('\\\\Delta_{u_r}, \\\\Delta_r, \\\\Delta_N, L,N, W, u_r')"
   ]
  },
  {
   "cell_type": "code",
   "execution_count": 203,
   "id": "executive-captain",
   "metadata": {},
   "outputs": [],
   "source": [
    "dl = K*du + (dr)/(r+R)*(1 - r/(r+R))*pc\n",
    "dw = dl*(r-R) + dr*L"
   ]
  },
  {
   "cell_type": "code",
   "execution_count": 171,
   "id": "informative-publicity",
   "metadata": {},
   "outputs": [],
   "source": [
    "dnprime = N*(K*du + dr*(L+R*pc*(r-R)/(r+R)**2)) + dN"
   ]
  },
  {
   "cell_type": "code",
   "execution_count": 172,
   "id": "honey-genealogy",
   "metadata": {},
   "outputs": [
    {
     "data": {
      "text/latex": [
       "$\\displaystyle N \\left(K \\Delta_{u_r} + \\Delta_{r} \\left(L + \\frac{R \\pi_{C} \\left(- R + r\\right)}{\\left(R + r\\right)^{2}}\\right)\\right) + \\Delta_{N}$"
      ],
      "text/plain": [
       "N*(K*\\Delta_{u_r} + \\Delta_r*(L + R*\\pi_C*(-R + r)/(R + r)**2)) + \\Delta_N"
      ]
     },
     "execution_count": 172,
     "metadata": {},
     "output_type": "execute_result"
    }
   ],
   "source": [
    "dnprime"
   ]
  },
  {
   "cell_type": "code",
   "execution_count": 158,
   "id": "convinced-hormone",
   "metadata": {},
   "outputs": [],
   "source": [
    "expr = expand(dw).collect(dr)"
   ]
  },
  {
   "cell_type": "code",
   "execution_count": 161,
   "id": "dimensional-graphic",
   "metadata": {},
   "outputs": [
    {
     "data": {
      "text/latex": [
       "$\\displaystyle \\frac{L R^{2} + 2 L R r + L r^{2} - R^{2} \\pi_{C} + R \\pi_{C} r}{\\left(R + r\\right)^{2}}$"
      ],
      "text/plain": [
       "(L*R**2 + 2*L*R*r + L*r**2 - R**2*\\pi_C + R*\\pi_C*r)/(R + r)**2"
      ]
     },
     "execution_count": 161,
     "metadata": {},
     "output_type": "execute_result"
    }
   ],
   "source": [
    "factor(expr.coeff(dr))"
   ]
  },
  {
   "cell_type": "code",
   "execution_count": 163,
   "id": "domestic-applicant",
   "metadata": {},
   "outputs": [
    {
     "data": {
      "text/latex": [
       "$\\displaystyle \\frac{L R^{2} + 2 L R r + L r^{2} - R^{2} \\pi_{C} + R \\pi_{C} r}{R^{2} + 2 R r + r^{2}}$"
      ],
      "text/plain": [
       "(L*R**2 + 2*L*R*r + L*r**2 - R**2*\\pi_C + R*\\pi_C*r)/(R**2 + 2*R*r + r**2)"
      ]
     },
     "execution_count": 163,
     "metadata": {},
     "output_type": "execute_result"
    }
   ],
   "source": [
    "simplify(expr.coeff(dr))"
   ]
  },
  {
   "cell_type": "code",
   "execution_count": 204,
   "id": "classified-verse",
   "metadata": {},
   "outputs": [
    {
     "data": {
      "text/latex": [
       "$\\displaystyle - \\frac{K N \\Delta_{u_r} \\beta r}{r + 1} - \\frac{L \\Delta_{N} \\beta r}{r + 1} + \\Delta_{r} \\left(\\frac{N \\pi_{C} \\beta r^{2}}{R^{2} r + R^{2} + 2 R r^{2} + 2 R r + r^{3} + r^{2}} - \\frac{N \\pi_{C} \\beta r}{R r + R + r^{2} + r} - \\frac{r}{r + 1} + 1\\right)$"
      ],
      "text/plain": [
       "-K*N*\\Delta_{u_r}*beta*r/(r + 1) - L*\\Delta_N*beta*r/(r + 1) + \\Delta_r*(N*\\pi_C*beta*r**2/(R**2*r + R**2 + 2*R*r**2 + 2*R*r + r**3 + r**2) - N*\\pi_C*beta*r/(R*r + R + r**2 + r) - r/(r + 1) + 1)"
      ]
     },
     "execution_count": 204,
     "metadata": {},
     "output_type": "execute_result"
    }
   ],
   "source": [
    "# r perturbation\n",
    "drprime = -dr*r/(1+r) - r*beta*(dN*L + N*dl)/(1+r) + dr\n",
    "expand(drprime).collect(dr)"
   ]
  },
  {
   "cell_type": "code",
   "execution_count": 205,
   "id": "differential-japanese",
   "metadata": {},
   "outputs": [],
   "source": [
    "drcoeff = expand(drprime).collect(dr).coeff(dr)"
   ]
  },
  {
   "cell_type": "code",
   "execution_count": 206,
   "id": "conceptual-niger",
   "metadata": {},
   "outputs": [
    {
     "data": {
      "text/latex": [
       "$\\displaystyle \\frac{- N R \\pi_{C} \\beta r + R^{2} + 2 R r + r^{2}}{\\left(R + r\\right)^{2} \\left(r + 1\\right)}$"
      ],
      "text/plain": [
       "(-N*R*\\pi_C*beta*r + R**2 + 2*R*r + r**2)/((R + r)**2*(r + 1))"
      ]
     },
     "execution_count": 206,
     "metadata": {},
     "output_type": "execute_result"
    }
   ],
   "source": [
    "factor(simplify(drcoeff))"
   ]
  },
  {
   "cell_type": "code",
   "execution_count": 207,
   "id": "vietnamese-garden",
   "metadata": {},
   "outputs": [],
   "source": [
    "dps = L*dN + N*dl"
   ]
  },
  {
   "cell_type": "code",
   "execution_count": 208,
   "id": "european-wednesday",
   "metadata": {},
   "outputs": [
    {
     "data": {
      "text/latex": [
       "$\\displaystyle \\frac{K N \\Delta_{u_r}}{r + 1} + \\frac{L \\Delta_{N}}{r + 1} + \\Delta_{r} \\left(- \\frac{N \\pi_{C} r}{R^{2} r + R^{2} + 2 R r^{2} + 2 R r + r^{3} + r^{2}} + \\frac{N \\pi_{C}}{R r + R + r^{2} + r} - \\frac{\\beta r}{r + 1}\\right)$"
      ],
      "text/plain": [
       "K*N*\\Delta_{u_r}/(r + 1) + L*\\Delta_N/(r + 1) + \\Delta_r*(-N*\\pi_C*r/(R**2*r + R**2 + 2*R*r**2 + 2*R*r + r**3 + r**2) + N*\\pi_C/(R*r + R + r**2 + r) - beta*r/(r + 1))"
      ]
     },
     "execution_count": 208,
     "metadata": {},
     "output_type": "execute_result"
    }
   ],
   "source": [
    "expr = -beta*r/(1+r)*dr + dps/(1+r)\n",
    "expand(expr).collect(dr)"
   ]
  },
  {
   "cell_type": "code",
   "execution_count": 209,
   "id": "personal-thread",
   "metadata": {},
   "outputs": [],
   "source": [
    "# u perturbation\n",
    "duprime = dr*L/W + dl*(1+r)/W -(u/W)*dw"
   ]
  },
  {
   "cell_type": "code",
   "execution_count": 210,
   "id": "senior-sigma",
   "metadata": {},
   "outputs": [],
   "source": [
    "duprime = expand(duprime).collect(dr).collect(du)"
   ]
  },
  {
   "cell_type": "code",
   "execution_count": 211,
   "id": "split-carol",
   "metadata": {},
   "outputs": [],
   "source": [
    "duprime_dr = duprime.coeff(dr)"
   ]
  },
  {
   "cell_type": "code",
   "execution_count": 212,
   "id": "everyday-academy",
   "metadata": {},
   "outputs": [
    {
     "data": {
      "text/latex": [
       "$\\displaystyle \\Delta_{r} \\left(- \\frac{L u_{r}}{W} + \\frac{L}{W} - \\frac{R \\pi_{C} r u_{r}}{R^{2} W + 2 R W r + W r^{2}} + \\frac{R \\pi_{C} u_{r}}{R W + W r} + \\frac{\\pi_{C} r^{2} u_{r}}{R^{2} W + 2 R W r + W r^{2}} - \\frac{\\pi_{C} r^{2}}{R^{2} W + 2 R W r + W r^{2}} - \\frac{\\pi_{C} r u_{r}}{R W + W r} - \\frac{\\pi_{C} r}{R^{2} W + 2 R W r + W r^{2}} + \\frac{\\pi_{C} r}{R W + W r} + \\frac{\\pi_{C}}{R W + W r}\\right) + \\Delta_{u_r} \\left(\\frac{K R u_{r}}{W} - \\frac{K r u_{r}}{W} + \\frac{K r}{W} + \\frac{K}{W}\\right)$"
      ],
      "text/plain": [
       "\\Delta_r*(-L*u_r/W + L/W - R*\\pi_C*r*u_r/(R**2*W + 2*R*W*r + W*r**2) + R*\\pi_C*u_r/(R*W + W*r) + \\pi_C*r**2*u_r/(R**2*W + 2*R*W*r + W*r**2) - \\pi_C*r**2/(R**2*W + 2*R*W*r + W*r**2) - \\pi_C*r*u_r/(R*W + W*r) - \\pi_C*r/(R**2*W + 2*R*W*r + W*r**2) + \\pi_C*r/(R*W + W*r) + \\pi_C/(R*W + W*r)) + \\Delta_{u_r}*(K*R*u_r/W - K*r*u_r/W + K*r/W + K/W)"
      ]
     },
     "execution_count": 212,
     "metadata": {},
     "output_type": "execute_result"
    }
   ],
   "source": [
    "duprime"
   ]
  },
  {
   "cell_type": "code",
   "execution_count": 218,
   "id": "reserved-salvation",
   "metadata": {},
   "outputs": [
    {
     "data": {
      "text/latex": [
       "$\\displaystyle \\frac{K R u_{r}}{W} - \\frac{K r u_{r}}{W} + \\frac{K r}{W} + \\frac{K}{W}$"
      ],
      "text/plain": [
       "K*R*u_r/W - K*r*u_r/W + K*r/W + K/W"
      ]
     },
     "execution_count": 218,
     "metadata": {},
     "output_type": "execute_result"
    }
   ],
   "source": [
    "duprime_du = duprime.coeff(du)\n",
    "duprime_du"
   ]
  },
  {
   "cell_type": "code",
   "execution_count": 219,
   "id": "clinical-murder",
   "metadata": {},
   "outputs": [],
   "source": [
    "to_check = (K/W)*(1+r-u*(r-R))"
   ]
  },
  {
   "cell_type": "code",
   "execution_count": 220,
   "id": "pending-nudist",
   "metadata": {},
   "outputs": [
    {
     "data": {
      "text/latex": [
       "$\\displaystyle 0$"
      ],
      "text/plain": [
       "0"
      ]
     },
     "execution_count": 220,
     "metadata": {},
     "output_type": "execute_result"
    }
   ],
   "source": [
    "expand(to_check)-duprime_du"
   ]
  },
  {
   "cell_type": "code",
   "execution_count": 223,
   "id": "limiting-welsh",
   "metadata": {},
   "outputs": [],
   "source": [
    "# Jacobian\n",
    "from sympy.abc import lamda, xi\n",
    "\n",
    "xi1, xi2, xi3 = symbols('\\\\xi_1, \\\\xi_2, \\\\xi_3')\n"
   ]
  },
  {
   "cell_type": "code",
   "execution_count": 225,
   "id": "veterinary-spending",
   "metadata": {},
   "outputs": [],
   "source": [
    "J = Matrix([[1, N*K, N*(L+xi1*(r-R))], \n",
    "            [0, K*xi2/W, (L/2)*(1-u) + xi1*xi2/W], \n",
    "            [L*xi3, N*K*xi3, 1/(1+r) + N*xi3*xi1]])"
   ]
  },
  {
   "cell_type": "code",
   "execution_count": 226,
   "id": "sudden-return",
   "metadata": {},
   "outputs": [
    {
     "data": {
      "text/latex": [
       "$\\displaystyle \\left[\\begin{matrix}1 & K N & N \\left(L + \\xi_{1} \\left(- R + r\\right)\\right)\\\\0 & \\frac{K \\xi_{2}}{W} & \\frac{L \\left(1 - u_{r}\\right)}{2} + \\frac{\\xi_{1} \\xi_{2}}{W}\\\\L \\xi_{3} & K N \\xi_{3} & N \\xi_{1} \\xi_{3} + \\frac{1}{r + 1}\\end{matrix}\\right]$"
      ],
      "text/plain": [
       "Matrix([\n",
       "[      1,       K*N,        N*(L + \\xi_1*(-R + r))],\n",
       "[      0, K*\\xi_2/W, L*(1 - u_r)/2 + \\xi_1*\\xi_2/W],\n",
       "[L*\\xi_3, K*N*\\xi_3,     N*\\xi_1*\\xi_3 + 1/(r + 1)]])"
      ]
     },
     "execution_count": 226,
     "metadata": {},
     "output_type": "execute_result"
    }
   ],
   "source": [
    "J"
   ]
  },
  {
   "cell_type": "code",
   "execution_count": 255,
   "id": "gentle-summit",
   "metadata": {},
   "outputs": [],
   "source": [
    "charpoly = J.charpoly(lamda)"
   ]
  },
  {
   "cell_type": "code",
   "execution_count": 254,
   "id": "alleged-worry",
   "metadata": {},
   "outputs": [
    {
     "data": {
      "text/latex": [
       "$\\displaystyle \\lambda^{3} + \\frac{\\lambda^{2} \\left(- K \\xi_{2} r - K \\xi_{2} - N W \\xi_{1} \\xi_{3} r - N W \\xi_{1} \\xi_{3} - W r - 2 W\\right)}{W r + W} + \\frac{\\lambda \\left(K L N W \\xi_{3} r u_{r} - K L N W \\xi_{3} r + K L N W \\xi_{3} u_{r} - K L N W \\xi_{3} + 2 K \\xi_{2} r + 4 K \\xi_{2} - 2 L^{2} N W \\xi_{3} r - 2 L^{2} N W \\xi_{3} + 2 L N R W \\xi_{1} \\xi_{3} r + 2 L N R W \\xi_{1} \\xi_{3} - 2 L N W \\xi_{1} \\xi_{3} r^{2} - 2 L N W \\xi_{1} \\xi_{3} r + 2 N W \\xi_{1} \\xi_{3} r + 2 N W \\xi_{1} \\xi_{3} + 2 W\\right)}{2 W r + 2 W} + \\frac{K L^{2} N W \\xi_{3} r u_{r} - K L^{2} N W \\xi_{3} r + K L^{2} N W \\xi_{3} u_{r} - K L^{2} N W \\xi_{3} + 2 K L^{2} N \\xi_{2} \\xi_{3} r + 2 K L^{2} N \\xi_{2} \\xi_{3} - 2 K L N R \\xi_{1} \\xi_{2} \\xi_{3} r - 2 K L N R \\xi_{1} \\xi_{2} \\xi_{3} - K L N W \\xi_{3} r u_{r} + K L N W \\xi_{3} r - K L N W \\xi_{3} u_{r} + K L N W \\xi_{3} + 2 K L N \\xi_{1} \\xi_{2} \\xi_{3} r^{2} - 2 K L N \\xi_{1} \\xi_{2} \\xi_{3} - 2 K \\xi_{2}}{2 W r + 2 W}$"
      ],
      "text/plain": [
       "lamda**3 + lamda**2*(-K*\\xi_2*r - K*\\xi_2 - N*W*\\xi_1*\\xi_3*r - N*W*\\xi_1*\\xi_3 - W*r - 2*W)/(W*r + W) + lamda*(K*L*N*W*\\xi_3*r*u_r - K*L*N*W*\\xi_3*r + K*L*N*W*\\xi_3*u_r - K*L*N*W*\\xi_3 + 2*K*\\xi_2*r + 4*K*\\xi_2 - 2*L**2*N*W*\\xi_3*r - 2*L**2*N*W*\\xi_3 + 2*L*N*R*W*\\xi_1*\\xi_3*r + 2*L*N*R*W*\\xi_1*\\xi_3 - 2*L*N*W*\\xi_1*\\xi_3*r**2 - 2*L*N*W*\\xi_1*\\xi_3*r + 2*N*W*\\xi_1*\\xi_3*r + 2*N*W*\\xi_1*\\xi_3 + 2*W)/(2*W*r + 2*W) + (K*L**2*N*W*\\xi_3*r*u_r - K*L**2*N*W*\\xi_3*r + K*L**2*N*W*\\xi_3*u_r - K*L**2*N*W*\\xi_3 + 2*K*L**2*N*\\xi_2*\\xi_3*r + 2*K*L**2*N*\\xi_2*\\xi_3 - 2*K*L*N*R*\\xi_1*\\xi_2*\\xi_3*r - 2*K*L*N*R*\\xi_1*\\xi_2*\\xi_3 - K*L*N*W*\\xi_3*r*u_r + K*L*N*W*\\xi_3*r - K*L*N*W*\\xi_3*u_r + K*L*N*W*\\xi_3 + 2*K*L*N*\\xi_1*\\xi_2*\\xi_3*r**2 - 2*K*L*N*\\xi_1*\\xi_2*\\xi_3 - 2*K*\\xi_2)/(2*W*r + 2*W)"
      ]
     },
     "execution_count": 254,
     "metadata": {},
     "output_type": "execute_result"
    }
   ],
   "source": [
    "charpoly"
   ]
  },
  {
   "cell_type": "code",
   "execution_count": 263,
   "id": "social-bruce",
   "metadata": {},
   "outputs": [],
   "source": [
    "coeffs_list = charpoly.coeffs()"
   ]
  },
  {
   "cell_type": "code",
   "execution_count": 264,
   "id": "level-intensity",
   "metadata": {},
   "outputs": [
    {
     "data": {
      "text/latex": [
       "$\\displaystyle 1$"
      ],
      "text/plain": [
       "1"
      ]
     },
     "execution_count": 264,
     "metadata": {},
     "output_type": "execute_result"
    }
   ],
   "source": [
    "coeffs_list[0]"
   ]
  },
  {
   "cell_type": "code",
   "execution_count": 291,
   "id": "overhead-recipient",
   "metadata": {},
   "outputs": [
    {
     "data": {
      "text/latex": [
       "$\\displaystyle - K \\xi_{2} r - K \\xi_{2} - N W \\xi_{1} \\xi_{3} r - N W \\xi_{1} \\xi_{3} - W r - 2 W$"
      ],
      "text/plain": [
       "-K*\\xi_2*r - K*\\xi_2 - N*W*\\xi_1*\\xi_3*r - N*W*\\xi_1*\\xi_3 - W*r - 2*W"
      ]
     },
     "metadata": {},
     "output_type": "display_data"
    },
    {
     "name": "stdout",
     "output_type": "stream",
     "text": [
      "quotient from dividing by 1 + r\n"
     ]
    },
    {
     "data": {
      "text/latex": [
       "$\\displaystyle - K \\xi_{2} - N W \\xi_{1} \\xi_{3} - W$"
      ],
      "text/plain": [
       "-K*\\xi_2 - N*W*\\xi_1*\\xi_3 - W"
      ]
     },
     "metadata": {},
     "output_type": "display_data"
    },
    {
     "name": "stdout",
     "output_type": "stream",
     "text": [
      "remainder\n"
     ]
    },
    {
     "data": {
      "text/latex": [
       "$\\displaystyle - W$"
      ],
      "text/plain": [
       "-W"
      ]
     },
     "metadata": {},
     "output_type": "display_data"
    }
   ],
   "source": [
    "n1, d1 = fraction(coeffs_list[1])\n",
    "display(simplify(n1))\n",
    "quotient,remainder = div(n1,1+r, domain='QQ')\n",
    "print(\"quotient from dividing by 1 + r\")\n",
    "display(quotient)\n",
    "print(\"remainder\")\n",
    "display(remainder)"
   ]
  },
  {
   "cell_type": "code",
   "execution_count": 302,
   "id": "small-dryer",
   "metadata": {},
   "outputs": [
    {
     "name": "stdout",
     "output_type": "stream",
     "text": [
      "numerator\n"
     ]
    },
    {
     "data": {
      "text/latex": [
       "$\\displaystyle K L N W \\xi_{3} r u_{r} - K L N W \\xi_{3} r + K L N W \\xi_{3} u_{r} - K L N W \\xi_{3} + 2 K \\xi_{2} r + 4 K \\xi_{2} - 2 L^{2} N W \\xi_{3} r - 2 L^{2} N W \\xi_{3} + 2 L N R W \\xi_{1} \\xi_{3} r + 2 L N R W \\xi_{1} \\xi_{3} - 2 L N W \\xi_{1} \\xi_{3} r^{2} - 2 L N W \\xi_{1} \\xi_{3} r + 2 N W \\xi_{1} \\xi_{3} r + 2 N W \\xi_{1} \\xi_{3} + 2 W$"
      ],
      "text/plain": [
       "K*L*N*W*\\xi_3*r*u_r - K*L*N*W*\\xi_3*r + K*L*N*W*\\xi_3*u_r - K*L*N*W*\\xi_3 + 2*K*\\xi_2*r + 4*K*\\xi_2 - 2*L**2*N*W*\\xi_3*r - 2*L**2*N*W*\\xi_3 + 2*L*N*R*W*\\xi_1*\\xi_3*r + 2*L*N*R*W*\\xi_1*\\xi_3 - 2*L*N*W*\\xi_1*\\xi_3*r**2 - 2*L*N*W*\\xi_1*\\xi_3*r + 2*N*W*\\xi_1*\\xi_3*r + 2*N*W*\\xi_1*\\xi_3 + 2*W"
      ]
     },
     "metadata": {},
     "output_type": "display_data"
    },
    {
     "name": "stdout",
     "output_type": "stream",
     "text": [
      "denominator:\n"
     ]
    },
    {
     "data": {
      "text/latex": [
       "$\\displaystyle 2 W r + 2 W$"
      ],
      "text/plain": [
       "2*W*r + 2*W"
      ]
     },
     "metadata": {},
     "output_type": "display_data"
    },
    {
     "name": "stdout",
     "output_type": "stream",
     "text": [
      "quotient from dividing by 1 + r\n"
     ]
    },
    {
     "data": {
      "text/latex": [
       "$\\displaystyle K L N W \\xi_{3} u_{r} - K L N W \\xi_{3} + 2 K \\xi_{2} - 2 L^{2} N W \\xi_{3} + 2 L N R W \\xi_{1} \\xi_{3} - 2 L N W \\xi_{1} \\xi_{3} r + 2 N W \\xi_{1} \\xi_{3}$"
      ],
      "text/plain": [
       "K*L*N*W*\\xi_3*u_r - K*L*N*W*\\xi_3 + 2*K*\\xi_2 - 2*L**2*N*W*\\xi_3 + 2*L*N*R*W*\\xi_1*\\xi_3 - 2*L*N*W*\\xi_1*\\xi_3*r + 2*N*W*\\xi_1*\\xi_3"
      ]
     },
     "metadata": {},
     "output_type": "display_data"
    },
    {
     "name": "stdout",
     "output_type": "stream",
     "text": [
      "remainder\n"
     ]
    },
    {
     "data": {
      "text/latex": [
       "$\\displaystyle 2 K \\xi_{2} + 2 W$"
      ],
      "text/plain": [
       "2*K*\\xi_2 + 2*W"
      ]
     },
     "metadata": {},
     "output_type": "display_data"
    }
   ],
   "source": [
    "n2, d2 = fraction(coeffs_list[2])\n",
    "print('numerator')\n",
    "display(simplify(n2))\n",
    "print('denominator:')\n",
    "display(d2)\n",
    "quotient2,remainder2 = div(n2,1+r, domain='QQ')\n",
    "print(\"quotient from dividing by 1 + r\")\n",
    "display(simplify(quotient2))\n",
    "print(\"remainder\")\n",
    "display(remainder2)"
   ]
  },
  {
   "cell_type": "code",
   "execution_count": 299,
   "id": "intense-macintosh",
   "metadata": {},
   "outputs": [
    {
     "name": "stdout",
     "output_type": "stream",
     "text": [
      "numerator\n"
     ]
    },
    {
     "data": {
      "text/latex": [
       "$\\displaystyle K \\left(L^{2} N W \\xi_{3} r u_{r} - L^{2} N W \\xi_{3} r + L^{2} N W \\xi_{3} u_{r} - L^{2} N W \\xi_{3} + 2 L^{2} N \\xi_{2} \\xi_{3} r + 2 L^{2} N \\xi_{2} \\xi_{3} - 2 L N R \\xi_{1} \\xi_{2} \\xi_{3} r - 2 L N R \\xi_{1} \\xi_{2} \\xi_{3} - L N W \\xi_{3} r u_{r} + L N W \\xi_{3} r - L N W \\xi_{3} u_{r} + L N W \\xi_{3} + 2 L N \\xi_{1} \\xi_{2} \\xi_{3} r^{2} - 2 L N \\xi_{1} \\xi_{2} \\xi_{3} - 2 \\xi_{2}\\right)$"
      ],
      "text/plain": [
       "K*(L**2*N*W*\\xi_3*r*u_r - L**2*N*W*\\xi_3*r + L**2*N*W*\\xi_3*u_r - L**2*N*W*\\xi_3 + 2*L**2*N*\\xi_2*\\xi_3*r + 2*L**2*N*\\xi_2*\\xi_3 - 2*L*N*R*\\xi_1*\\xi_2*\\xi_3*r - 2*L*N*R*\\xi_1*\\xi_2*\\xi_3 - L*N*W*\\xi_3*r*u_r + L*N*W*\\xi_3*r - L*N*W*\\xi_3*u_r + L*N*W*\\xi_3 + 2*L*N*\\xi_1*\\xi_2*\\xi_3*r**2 - 2*L*N*\\xi_1*\\xi_2*\\xi_3 - 2*\\xi_2)"
      ]
     },
     "metadata": {},
     "output_type": "display_data"
    },
    {
     "name": "stdout",
     "output_type": "stream",
     "text": [
      "denominator:\n"
     ]
    },
    {
     "data": {
      "text/latex": [
       "$\\displaystyle 2 W r + 2 W$"
      ],
      "text/plain": [
       "2*W*r + 2*W"
      ]
     },
     "metadata": {},
     "output_type": "display_data"
    },
    {
     "name": "stdout",
     "output_type": "stream",
     "text": [
      "quotient from dividing by 1 + r\n"
     ]
    },
    {
     "data": {
      "text/latex": [
       "$\\displaystyle K L N \\xi_{3} \\left(L W u_{r} - L W + 2 L \\xi_{2} - 2 R \\xi_{1} \\xi_{2} - W u_{r} + W + 2 \\xi_{1} \\xi_{2} r - 2 \\xi_{1} \\xi_{2}\\right)$"
      ],
      "text/plain": [
       "K*L*N*\\xi_3*(L*W*u_r - L*W + 2*L*\\xi_2 - 2*R*\\xi_1*\\xi_2 - W*u_r + W + 2*\\xi_1*\\xi_2*r - 2*\\xi_1*\\xi_2)"
      ]
     },
     "metadata": {},
     "output_type": "display_data"
    },
    {
     "name": "stdout",
     "output_type": "stream",
     "text": [
      "remainder\n"
     ]
    },
    {
     "data": {
      "text/latex": [
       "$\\displaystyle - 2 K \\xi_{2}$"
      ],
      "text/plain": [
       "-2*K*\\xi_2"
      ]
     },
     "metadata": {},
     "output_type": "display_data"
    }
   ],
   "source": [
    "n3, d3 = fraction(coeffs_list[3])\n",
    "print('numerator')\n",
    "display(simplify(n3))\n",
    "print('denominator:')\n",
    "display(d3)\n",
    "quotient3,remainder3 = div(n3,1+r, domain='QQ')\n",
    "print(\"quotient from dividing by 1 + r\")\n",
    "display(factor(quotient3))\n",
    "print(\"remainder\")\n",
    "display(remainder3)"
   ]
  },
  {
   "cell_type": "code",
   "execution_count": 323,
   "id": "suspended-pursuit",
   "metadata": {},
   "outputs": [],
   "source": [
    "a,b,c,d,e,f,g = symbols('a, b, c, d, e, f, g')\n",
    "Jstar_abc = Matrix([[1,a,b],[0,c,d],[e,f,g]])"
   ]
  },
  {
   "cell_type": "code",
   "execution_count": 329,
   "id": "described-laugh",
   "metadata": {},
   "outputs": [],
   "source": [
    "l_evals = list(Jstar_abc.eigenvals())"
   ]
  },
  {
   "cell_type": "code",
   "execution_count": 336,
   "id": "classical-document",
   "metadata": {},
   "outputs": [
    {
     "data": {
      "text/latex": [
       "$\\displaystyle \\frac{c}{3} + \\frac{g}{3} - \\frac{3 b e - 3 c g - 3 c + 3 d f - 3 g + \\left(- c - g - 1\\right)^{2}}{3 \\sqrt[3]{- \\frac{27 a d e}{2} + \\frac{27 b c e}{2} - \\frac{27 c g}{2} + \\frac{27 d f}{2} + \\frac{\\sqrt{- 4 \\left(3 b e - 3 c g - 3 c + 3 d f - 3 g + \\left(- c - g - 1\\right)^{2}\\right)^{3} + \\left(- 27 a d e + 27 b c e - 27 c g + 27 d f - \\left(- 9 c - 9 g - 9\\right) \\left(- b e + c g + c - d f + g\\right) + 2 \\left(- c - g - 1\\right)^{3}\\right)^{2}}}{2} - \\frac{\\left(- 9 c - 9 g - 9\\right) \\left(- b e + c g + c - d f + g\\right)}{2} + \\left(- c - g - 1\\right)^{3}}} - \\frac{\\sqrt[3]{- \\frac{27 a d e}{2} + \\frac{27 b c e}{2} - \\frac{27 c g}{2} + \\frac{27 d f}{2} + \\frac{\\sqrt{- 4 \\left(3 b e - 3 c g - 3 c + 3 d f - 3 g + \\left(- c - g - 1\\right)^{2}\\right)^{3} + \\left(- 27 a d e + 27 b c e - 27 c g + 27 d f - \\left(- 9 c - 9 g - 9\\right) \\left(- b e + c g + c - d f + g\\right) + 2 \\left(- c - g - 1\\right)^{3}\\right)^{2}}}{2} - \\frac{\\left(- 9 c - 9 g - 9\\right) \\left(- b e + c g + c - d f + g\\right)}{2} + \\left(- c - g - 1\\right)^{3}}}{3} + \\frac{1}{3}$"
      ],
      "text/plain": [
       "c/3 + g/3 - (3*b*e - 3*c*g - 3*c + 3*d*f - 3*g + (-c - g - 1)**2)/(3*(-27*a*d*e/2 + 27*b*c*e/2 - 27*c*g/2 + 27*d*f/2 + sqrt(-4*(3*b*e - 3*c*g - 3*c + 3*d*f - 3*g + (-c - g - 1)**2)**3 + (-27*a*d*e + 27*b*c*e - 27*c*g + 27*d*f - (-9*c - 9*g - 9)*(-b*e + c*g + c - d*f + g) + 2*(-c - g - 1)**3)**2)/2 - (-9*c - 9*g - 9)*(-b*e + c*g + c - d*f + g)/2 + (-c - g - 1)**3)**(1/3)) - (-27*a*d*e/2 + 27*b*c*e/2 - 27*c*g/2 + 27*d*f/2 + sqrt(-4*(3*b*e - 3*c*g - 3*c + 3*d*f - 3*g + (-c - g - 1)**2)**3 + (-27*a*d*e + 27*b*c*e - 27*c*g + 27*d*f - (-9*c - 9*g - 9)*(-b*e + c*g + c - d*f + g) + 2*(-c - g - 1)**3)**2)/2 - (-9*c - 9*g - 9)*(-b*e + c*g + c - d*f + g)/2 + (-c - g - 1)**3)**(1/3)/3 + 1/3"
      ]
     },
     "execution_count": 336,
     "metadata": {},
     "output_type": "execute_result"
    }
   ],
   "source": [
    "l_evals[0] "
   ]
  },
  {
   "cell_type": "code",
   "execution_count": 345,
   "id": "peripheral-korea",
   "metadata": {},
   "outputs": [],
   "source": [
    "xi1 = -c-g-1\n",
    "xi2 = b*e - c*g - c + d*f - g\n",
    "xi3 = -a*d*e + b*c*e - c*g + d*f\n",
    "xi4 = sqrt(-4*(3*xi2 + xi1**2)**3 + (27*xi3 + 9*xi1*xi2 + 2*xi1**3)**2)\n",
    "xi5 = cbrt(27*xi3/2 + (1/2)*xi4 + 9*xi1*xi2/2 + xi1**3)\n",
    "whatiwrote = 1/3 + c/3 + g/3 - (3*xi2 + xi1**2)/(3*xi5)- xi5/3"
   ]
  },
  {
   "cell_type": "code",
   "execution_count": 350,
   "id": "enormous-profit",
   "metadata": {},
   "outputs": [
    {
     "data": {
      "text/latex": [
       "$\\displaystyle 0$"
      ],
      "text/plain": [
       "0"
      ]
     },
     "execution_count": 350,
     "metadata": {},
     "output_type": "execute_result"
    }
   ],
   "source": [
    "simplify(l_evals[0] - whatiwrote)"
   ]
  },
  {
   "cell_type": "code",
   "execution_count": 357,
   "id": "significant-mobility",
   "metadata": {},
   "outputs": [
    {
     "data": {
      "text/latex": [
       "$\\displaystyle \\frac{c}{3} + \\frac{g}{3} - \\frac{3 b e - 3 c g - 3 c + 3 d f - 3 g + \\left(- c - g - 1\\right)^{2}}{3 \\left(- \\frac{1}{2} - \\frac{\\sqrt{3} i}{2}\\right) \\sqrt[3]{- \\frac{27 a d e}{2} + \\frac{27 b c e}{2} - \\frac{27 c g}{2} + \\frac{27 d f}{2} + \\frac{\\sqrt{- 4 \\left(3 b e - 3 c g - 3 c + 3 d f - 3 g + \\left(- c - g - 1\\right)^{2}\\right)^{3} + \\left(- 27 a d e + 27 b c e - 27 c g + 27 d f - \\left(- 9 c - 9 g - 9\\right) \\left(- b e + c g + c - d f + g\\right) + 2 \\left(- c - g - 1\\right)^{3}\\right)^{2}}}{2} - \\frac{\\left(- 9 c - 9 g - 9\\right) \\left(- b e + c g + c - d f + g\\right)}{2} + \\left(- c - g - 1\\right)^{3}}} - \\frac{\\left(- \\frac{1}{2} - \\frac{\\sqrt{3} i}{2}\\right) \\sqrt[3]{- \\frac{27 a d e}{2} + \\frac{27 b c e}{2} - \\frac{27 c g}{2} + \\frac{27 d f}{2} + \\frac{\\sqrt{- 4 \\left(3 b e - 3 c g - 3 c + 3 d f - 3 g + \\left(- c - g - 1\\right)^{2}\\right)^{3} + \\left(- 27 a d e + 27 b c e - 27 c g + 27 d f - \\left(- 9 c - 9 g - 9\\right) \\left(- b e + c g + c - d f + g\\right) + 2 \\left(- c - g - 1\\right)^{3}\\right)^{2}}}{2} - \\frac{\\left(- 9 c - 9 g - 9\\right) \\left(- b e + c g + c - d f + g\\right)}{2} + \\left(- c - g - 1\\right)^{3}}}{3} + \\frac{1}{3}$"
      ],
      "text/plain": [
       "c/3 + g/3 - (3*b*e - 3*c*g - 3*c + 3*d*f - 3*g + (-c - g - 1)**2)/(3*(-1/2 - sqrt(3)*I/2)*(-27*a*d*e/2 + 27*b*c*e/2 - 27*c*g/2 + 27*d*f/2 + sqrt(-4*(3*b*e - 3*c*g - 3*c + 3*d*f - 3*g + (-c - g - 1)**2)**3 + (-27*a*d*e + 27*b*c*e - 27*c*g + 27*d*f - (-9*c - 9*g - 9)*(-b*e + c*g + c - d*f + g) + 2*(-c - g - 1)**3)**2)/2 - (-9*c - 9*g - 9)*(-b*e + c*g + c - d*f + g)/2 + (-c - g - 1)**3)**(1/3)) - (-1/2 - sqrt(3)*I/2)*(-27*a*d*e/2 + 27*b*c*e/2 - 27*c*g/2 + 27*d*f/2 + sqrt(-4*(3*b*e - 3*c*g - 3*c + 3*d*f - 3*g + (-c - g - 1)**2)**3 + (-27*a*d*e + 27*b*c*e - 27*c*g + 27*d*f - (-9*c - 9*g - 9)*(-b*e + c*g + c - d*f + g) + 2*(-c - g - 1)**3)**2)/2 - (-9*c - 9*g - 9)*(-b*e + c*g + c - d*f + g)/2 + (-c - g - 1)**3)**(1/3)/3 + 1/3"
      ]
     },
     "execution_count": 357,
     "metadata": {},
     "output_type": "execute_result"
    }
   ],
   "source": [
    "l_evals[2]"
   ]
  },
  {
   "cell_type": "code",
   "execution_count": 356,
   "id": "changing-passing",
   "metadata": {},
   "outputs": [
    {
     "data": {
      "text/latex": [
       "$\\displaystyle 0$"
      ],
      "text/plain": [
       "0"
      ]
     },
     "execution_count": 356,
     "metadata": {},
     "output_type": "execute_result"
    }
   ],
   "source": [
    "simplify(l_evals[1] - (1/3 + c/3 + g/3 - (3*xi2 + xi1**2)/((3/2)*(-1 + I*sqrt(3))*xi5) - (1/6)*(-1+I*sqrt(3))*xi5))"
   ]
  },
  {
   "cell_type": "markdown",
   "id": "instrumental-worship",
   "metadata": {},
   "source": [
    "# No predators"
   ]
  },
  {
   "cell_type": "code",
   "execution_count": 2,
   "id": "thousand-chile",
   "metadata": {},
   "outputs": [],
   "source": [
    "K,u,pc,R = symbols('K,u_r,\\\\pi_C,R')"
   ]
  },
  {
   "cell_type": "code",
   "execution_count": 6,
   "id": "mineral-thirty",
   "metadata": {},
   "outputs": [],
   "source": [
    "L = K*u + (1/(1+R))*pc\n",
    "W = 1 + R + (1-R)*L\n",
    "u_solns = solve(W*u-2*L,u)"
   ]
  },
  {
   "cell_type": "code",
   "execution_count": 8,
   "id": "paperback-investigation",
   "metadata": {},
   "outputs": [
    {
     "data": {
      "text/latex": [
       "$\\displaystyle \\frac{- 2 K R - 2 K + R^{2} - R \\pi_{C} + 2 R + \\pi_{C} - \\sqrt{4 K^{2} R^{2} + 8 K^{2} R + 4 K^{2} - 4 K R^{3} - 4 K R^{2} \\pi_{C} - 12 K R^{2} - 12 K R + 4 K \\pi_{C} - 4 K + R^{4} - 2 R^{3} \\pi_{C} + 4 R^{3} + R^{2} \\pi_{C}^{2} - 2 R^{2} \\pi_{C} + 6 R^{2} - 2 R \\pi_{C}^{2} + 2 R \\pi_{C} + 4 R + \\pi_{C}^{2} + 2 \\pi_{C} + 1} + 1}{2 K \\left(R^{2} - 1\\right)}$"
      ],
      "text/plain": [
       "(-2*K*R - 2*K + R**2 - R*\\pi_C + 2*R + \\pi_C - sqrt(4*K**2*R**2 + 8*K**2*R + 4*K**2 - 4*K*R**3 - 4*K*R**2*\\pi_C - 12*K*R**2 - 12*K*R + 4*K*\\pi_C - 4*K + R**4 - 2*R**3*\\pi_C + 4*R**3 + R**2*\\pi_C**2 - 2*R**2*\\pi_C + 6*R**2 - 2*R*\\pi_C**2 + 2*R*\\pi_C + 4*R + \\pi_C**2 + 2*\\pi_C + 1) + 1)/(2*K*(R**2 - 1))"
      ]
     },
     "execution_count": 8,
     "metadata": {},
     "output_type": "execute_result"
    }
   ],
   "source": [
    "u_solns[0]"
   ]
  },
  {
   "cell_type": "code",
   "execution_count": null,
   "id": "exclusive-africa",
   "metadata": {},
   "outputs": [],
   "source": []
  }
 ],
 "metadata": {
  "kernelspec": {
   "display_name": "Python 3",
   "language": "python",
   "name": "python3"
  },
  "language_info": {
   "codemirror_mode": {
    "name": "ipython",
    "version": 3
   },
   "file_extension": ".py",
   "mimetype": "text/x-python",
   "name": "python",
   "nbconvert_exporter": "python",
   "pygments_lexer": "ipython3",
   "version": "3.9.2"
  }
 },
 "nbformat": 4,
 "nbformat_minor": 5
}
